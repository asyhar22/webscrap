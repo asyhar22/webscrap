{
  "nbformat": 4,
  "nbformat_minor": 0,
  "metadata": {
    "colab": {
      "provenance": [],
      "authorship_tag": "ABX9TyPFPlh4f08EkH3aY6PKy5ny",
      "include_colab_link": true
    },
    "kernelspec": {
      "name": "python3",
      "display_name": "Python 3"
    },
    "language_info": {
      "name": "python"
    }
  },
  "cells": [
    {
      "cell_type": "markdown",
      "metadata": {
        "id": "view-in-github",
        "colab_type": "text"
      },
      "source": [
        "<a href=\"https://colab.research.google.com/github/asyhar22/webscrap/blob/main/Beautiful_Soup_LPSE.ipynb\" target=\"_parent\"><img src=\"https://colab.research.google.com/assets/colab-badge.svg\" alt=\"Open In Colab\"/></a>"
      ]
    },
    {
      "cell_type": "markdown",
      "source": [
        "# **Scrapping Data Tender LPSE**\n",
        "by Muhammad Asyhar"
      ],
      "metadata": {
        "id": "EmEvnfKU6Zv4"
      }
    },
    {
      "cell_type": "markdown",
      "source": [
        "### Import Library"
      ],
      "metadata": {
        "id": "d0kUN2aK6yG0"
      }
    },
    {
      "cell_type": "code",
      "source": [
        "import requests\n",
        "from bs4 import BeautifulSoup\n",
        "import re\n",
        "import pandas as pd "
      ],
      "metadata": {
        "id": "zdXoc2sl5rHN"
      },
      "execution_count": 256,
      "outputs": []
    },
    {
      "cell_type": "markdown",
      "source": [
        "### Alamat URL LPSE (hasil search)"
      ],
      "metadata": {
        "id": "Ee5tRR6r6-Xa"
      }
    },
    {
      "cell_type": "code",
      "source": [
        "url = 'https://inaproc.id/tender?prov=&kab=&qualification=0&price=0&year=2024&kldi=0&repo=0&keyword='"
      ],
      "metadata": {
        "id": "HdFHHo5K5upy"
      },
      "execution_count": 257,
      "outputs": []
    },
    {
      "cell_type": "markdown",
      "source": [
        "### Fungsi untuk memperoleh data"
      ],
      "metadata": {
        "id": "wHzmqbzx7SLU"
      }
    },
    {
      "cell_type": "code",
      "source": [
        "def getdata(url):\n",
        "  r = requests.get(url)\n",
        "  soup = BeautifulSoup(r.text,'html.parser')\n",
        "  return soup"
      ],
      "metadata": {
        "id": "XIpoVYnDZBic"
      },
      "execution_count": 258,
      "outputs": []
    },
    {
      "cell_type": "markdown",
      "source": [
        "### Fungsi untuk berpindah ke halaman selanjutnya"
      ],
      "metadata": {
        "id": "mE9kCR_T7XNq"
      }
    },
    {
      "cell_type": "code",
      "source": [
        "def getnextpage(soup):\n",
        "  item = soup.find('div', {'class':'ui menu two item'}).find_all(['div','a'])\n",
        "  if not item[1].name == 'div':\n",
        "    url = item[1]['href']\n",
        "    return url\n",
        "  else:\n",
        "    return False"
      ],
      "metadata": {
        "id": "yu7dfLAUZ8o_"
      },
      "execution_count": 259,
      "outputs": []
    },
    {
      "cell_type": "markdown",
      "source": [
        "### Merekam data ke dalam list"
      ],
      "metadata": {
        "id": "TTkpF6mM7nKV"
      }
    },
    {
      "cell_type": "code",
      "source": [
        "records = []\n",
        "while True:\n",
        "  soup = getdata(url)\n",
        "  contents = soup.find('table', {'class':'ui table small compact table-list'}).find_all('tr')\n",
        "  for content in contents:\n",
        "    title = re.sub(r'\\n|\\s+',' ',(content.find('div', {'class': 'title'}).text)).strip()\n",
        "    province = re.sub(r'\\n|\\s+',' ',(content.find('div', {'class': 'province'}).text)).strip()\n",
        "    label = content.find('div', {'class': 'label'}).find_all('span', {'class': 'ui label default small'})\n",
        "    label_list = str(list(i.text for i in label))\n",
        "    tanggal = re.sub(r'\\n|\\s+',' ',content.find_all('div')[4].text).strip()\n",
        "    doc = re.sub(r'\\n|\\s+',' ',(content.find('span', {'class': 'ui label basic small'}).text)).strip()\n",
        "    nilai = re.sub(r'\\n|\\s+',' ',(content.find('span', {'class': 'ui label green'}).text)).strip()\n",
        "    records.append([title, province, label_list, tanggal, doc, nilai])\n",
        "  url = getnextpage(soup)\n",
        "  if not url:\n",
        "    break\n",
        "  print(url)"
      ],
      "metadata": {
        "colab": {
          "base_uri": "https://localhost:8080/"
        },
        "id": "UImcYOzFFSJX",
        "outputId": "21842e64-f23b-4021-fde3-a4aca16b056f"
      },
      "execution_count": 260,
      "outputs": [
        {
          "output_type": "stream",
          "name": "stdout",
          "text": [
            "https://inaproc.id/tender?prov=&kab=&qualification=0&price=0&year=2024&kldi=0&repo=0&keyword=&page=2\n",
            "https://inaproc.id/tender?prov=&kab=&qualification=0&price=0&year=2024&kldi=0&repo=0&keyword=&page=3\n",
            "https://inaproc.id/tender?prov=&kab=&qualification=0&price=0&year=2024&kldi=0&repo=0&keyword=&page=4\n",
            "https://inaproc.id/tender?prov=&kab=&qualification=0&price=0&year=2024&kldi=0&repo=0&keyword=&page=5\n",
            "https://inaproc.id/tender?prov=&kab=&qualification=0&price=0&year=2024&kldi=0&repo=0&keyword=&page=6\n",
            "https://inaproc.id/tender?prov=&kab=&qualification=0&price=0&year=2024&kldi=0&repo=0&keyword=&page=7\n",
            "https://inaproc.id/tender?prov=&kab=&qualification=0&price=0&year=2024&kldi=0&repo=0&keyword=&page=8\n",
            "https://inaproc.id/tender?prov=&kab=&qualification=0&price=0&year=2024&kldi=0&repo=0&keyword=&page=9\n",
            "https://inaproc.id/tender?prov=&kab=&qualification=0&price=0&year=2024&kldi=0&repo=0&keyword=&page=10\n",
            "https://inaproc.id/tender?prov=&kab=&qualification=0&price=0&year=2024&kldi=0&repo=0&keyword=&page=11\n",
            "https://inaproc.id/tender?prov=&kab=&qualification=0&price=0&year=2024&kldi=0&repo=0&keyword=&page=12\n",
            "https://inaproc.id/tender?prov=&kab=&qualification=0&price=0&year=2024&kldi=0&repo=0&keyword=&page=13\n",
            "https://inaproc.id/tender?prov=&kab=&qualification=0&price=0&year=2024&kldi=0&repo=0&keyword=&page=14\n",
            "https://inaproc.id/tender?prov=&kab=&qualification=0&price=0&year=2024&kldi=0&repo=0&keyword=&page=15\n",
            "https://inaproc.id/tender?prov=&kab=&qualification=0&price=0&year=2024&kldi=0&repo=0&keyword=&page=16\n"
          ]
        }
      ]
    },
    {
      "cell_type": "markdown",
      "source": [
        "### Membuat data frame"
      ],
      "metadata": {
        "id": "7OT88BPa7zSI"
      }
    },
    {
      "cell_type": "code",
      "source": [
        "df = pd.DataFrame(records, columns=['title', 'province', 'label_list', 'tanggal', 'doc', 'nilai'])\n",
        "df"
      ],
      "metadata": {
        "colab": {
          "base_uri": "https://localhost:8080/",
          "height": 0
        },
        "id": "u0J9xyGkyufc",
        "outputId": "93951325-47fa-4531-e63f-8303e27c459c"
      },
      "execution_count": 261,
      "outputs": [
        {
          "output_type": "execute_result",
          "data": {
            "text/plain": [
              "                                                 title  \\\n",
              "0                  Pembangunan Bangunan Gedung Stadion   \n",
              "1    Pekerjaan Konstruksi Terintegrasi Rancang dan ...   \n",
              "2    Belanja Modal Bangunan Gedung Tempat Olahraga ...   \n",
              "3    Pekerjaan Lanjutan Pembangunan Kawasan Sisi Da...   \n",
              "4    Pengawasan Pembangunan Balai Adat Kecamatan Ta...   \n",
              "..                                                 ...   \n",
              "155  Rekonstruksi Jalan Ruas Beteleme - Bts. Sulsel...   \n",
              "156  Paket Pekerjaan Konstruksi CWI-01: Constructio...   \n",
              "157      Rekonstruksi Jalan Ruas Siuna - Boalemo (MYC)   \n",
              "158     Rekonstruksi Jalan Ruas Tonusu - Pendolo (MYC)   \n",
              "159  Pembangunan Ruas Jalan Bora - Pandere (Kab. Si...   \n",
              "\n",
              "                                              province  \\\n",
              "0                 Muaro Jambi-Muaro Jambi (Kab.)-Jambi   \n",
              "1    Jl. Salodong Kelurahan Untia Kecamatan Biringk...   \n",
              "2            Makassar-Makassar (Kota)-Sulawesi Selatan   \n",
              "3    Jl. Poros Mamuju - Kalukku Km. 31 Mamuju-Mamuj...   \n",
              "4    Kec. Tana Lia-Kabupateng Tana Tidung (Kab.)-Ka...   \n",
              "..                                                 ...   \n",
              "155                                                      \n",
              "156  Kampus Institut Teknologi Sepuluh Nopember, Su...   \n",
              "157  Ruas Siuna - Boalemo-Banggai (Kab.)-Sulawesi T...   \n",
              "158  Ruas Tonusu - Pendolo-Poso (Kab.)-Sulawesi Tengah   \n",
              "159  Ruas Bora - Pandere (Kab. Sigi)-Sigi (Kab.)-Su...   \n",
              "\n",
              "                                            label_list  \\\n",
              "0    ['Pekerjaan Konstruksi', 'procurement.qualific...   \n",
              "1            ['procurement.categories.7', 'Non Kecil']   \n",
              "2    ['procurement.categories.5', 'procurement.qual...   \n",
              "3    ['Pekerjaan Konstruksi', 'procurement.qualific...   \n",
              "4                ['procurement.categories.5', 'Kecil']   \n",
              "..                                                 ...   \n",
              "155  ['Pekerjaan Konstruksi', 'procurement.qualific...   \n",
              "156  ['Pekerjaan Konstruksi', 'procurement.qualific...   \n",
              "157  ['Pekerjaan Konstruksi', 'procurement.qualific...   \n",
              "158  ['Pekerjaan Konstruksi', 'procurement.qualific...   \n",
              "159  ['Pekerjaan Konstruksi', 'procurement.qualific...   \n",
              "\n",
              "                         tanggal  \\\n",
              "0     6 Jan 2023 s/d 28 Feb 2023   \n",
              "1     2 Jan 2023 s/d 27 Feb 2023   \n",
              "2    28 Des 2022 s/d 15 Feb 2023   \n",
              "3    28 Des 2022 s/d 31 Jan 2023   \n",
              "4     9 Des 2022 s/d 31 Jan 2023   \n",
              "..                           ...   \n",
              "155   23 Nov 2022 s/d 1 Mar 2023   \n",
              "156   23 Nov 2022 s/d 6 Feb 2023   \n",
              "157   23 Nov 2022 s/d 1 Feb 2023   \n",
              "158   23 Nov 2022 s/d 1 Feb 2023   \n",
              "159   23 Nov 2022 s/d 1 Feb 2023   \n",
              "\n",
              "                                                   doc               nilai  \n",
              "0                         Download Dokumen Kualifikasi  Rp 249.997.000.000  \n",
              "1                         Evaluasi Dokumen Kualifikasi  Rp 270.004.942.000  \n",
              "2                          Masa Sanggah Prakualifikasi    Rp 7.078.400.000  \n",
              "3                            Masa Sanggah Hasil Lelang   Rp 19.513.000.000  \n",
              "4    Pembukaan Dan Evaluasi Penawaran File I : Admi...      Rp 299.636.120  \n",
              "..                                                 ...                 ...  \n",
              "155                                Pengumuman Pemenang   Rp 46.023.000.000  \n",
              "156                             Pembuktian Kualifikasi  Rp 112.982.779.707  \n",
              "157                                Pengumuman Pemenang   Rp 62.532.000.000  \n",
              "158                                Pengumuman Pemenang   Rp 68.599.000.000  \n",
              "159                                Pengumuman Pemenang   Rp 67.914.916.000  \n",
              "\n",
              "[160 rows x 6 columns]"
            ],
            "text/html": [
              "\n",
              "  <div id=\"df-6b9f9c37-9ae2-4f7c-9da5-5e952b5d72e8\">\n",
              "    <div class=\"colab-df-container\">\n",
              "      <div>\n",
              "<style scoped>\n",
              "    .dataframe tbody tr th:only-of-type {\n",
              "        vertical-align: middle;\n",
              "    }\n",
              "\n",
              "    .dataframe tbody tr th {\n",
              "        vertical-align: top;\n",
              "    }\n",
              "\n",
              "    .dataframe thead th {\n",
              "        text-align: right;\n",
              "    }\n",
              "</style>\n",
              "<table border=\"1\" class=\"dataframe\">\n",
              "  <thead>\n",
              "    <tr style=\"text-align: right;\">\n",
              "      <th></th>\n",
              "      <th>title</th>\n",
              "      <th>province</th>\n",
              "      <th>label_list</th>\n",
              "      <th>tanggal</th>\n",
              "      <th>doc</th>\n",
              "      <th>nilai</th>\n",
              "    </tr>\n",
              "  </thead>\n",
              "  <tbody>\n",
              "    <tr>\n",
              "      <th>0</th>\n",
              "      <td>Pembangunan Bangunan Gedung Stadion</td>\n",
              "      <td>Muaro Jambi-Muaro Jambi (Kab.)-Jambi</td>\n",
              "      <td>['Pekerjaan Konstruksi', 'procurement.qualific...</td>\n",
              "      <td>6 Jan 2023 s/d 28 Feb 2023</td>\n",
              "      <td>Download Dokumen Kualifikasi</td>\n",
              "      <td>Rp 249.997.000.000</td>\n",
              "    </tr>\n",
              "    <tr>\n",
              "      <th>1</th>\n",
              "      <td>Pekerjaan Konstruksi Terintegrasi Rancang dan ...</td>\n",
              "      <td>Jl. Salodong Kelurahan Untia Kecamatan Biringk...</td>\n",
              "      <td>['procurement.categories.7', 'Non Kecil']</td>\n",
              "      <td>2 Jan 2023 s/d 27 Feb 2023</td>\n",
              "      <td>Evaluasi Dokumen Kualifikasi</td>\n",
              "      <td>Rp 270.004.942.000</td>\n",
              "    </tr>\n",
              "    <tr>\n",
              "      <th>2</th>\n",
              "      <td>Belanja Modal Bangunan Gedung Tempat Olahraga ...</td>\n",
              "      <td>Makassar-Makassar (Kota)-Sulawesi Selatan</td>\n",
              "      <td>['procurement.categories.5', 'procurement.qual...</td>\n",
              "      <td>28 Des 2022 s/d 15 Feb 2023</td>\n",
              "      <td>Masa Sanggah Prakualifikasi</td>\n",
              "      <td>Rp 7.078.400.000</td>\n",
              "    </tr>\n",
              "    <tr>\n",
              "      <th>3</th>\n",
              "      <td>Pekerjaan Lanjutan Pembangunan Kawasan Sisi Da...</td>\n",
              "      <td>Jl. Poros Mamuju - Kalukku Km. 31 Mamuju-Mamuj...</td>\n",
              "      <td>['Pekerjaan Konstruksi', 'procurement.qualific...</td>\n",
              "      <td>28 Des 2022 s/d 31 Jan 2023</td>\n",
              "      <td>Masa Sanggah Hasil Lelang</td>\n",
              "      <td>Rp 19.513.000.000</td>\n",
              "    </tr>\n",
              "    <tr>\n",
              "      <th>4</th>\n",
              "      <td>Pengawasan Pembangunan Balai Adat Kecamatan Ta...</td>\n",
              "      <td>Kec. Tana Lia-Kabupateng Tana Tidung (Kab.)-Ka...</td>\n",
              "      <td>['procurement.categories.5', 'Kecil']</td>\n",
              "      <td>9 Des 2022 s/d 31 Jan 2023</td>\n",
              "      <td>Pembukaan Dan Evaluasi Penawaran File I : Admi...</td>\n",
              "      <td>Rp 299.636.120</td>\n",
              "    </tr>\n",
              "    <tr>\n",
              "      <th>...</th>\n",
              "      <td>...</td>\n",
              "      <td>...</td>\n",
              "      <td>...</td>\n",
              "      <td>...</td>\n",
              "      <td>...</td>\n",
              "      <td>...</td>\n",
              "    </tr>\n",
              "    <tr>\n",
              "      <th>155</th>\n",
              "      <td>Rekonstruksi Jalan Ruas Beteleme - Bts. Sulsel...</td>\n",
              "      <td></td>\n",
              "      <td>['Pekerjaan Konstruksi', 'procurement.qualific...</td>\n",
              "      <td>23 Nov 2022 s/d 1 Mar 2023</td>\n",
              "      <td>Pengumuman Pemenang</td>\n",
              "      <td>Rp 46.023.000.000</td>\n",
              "    </tr>\n",
              "    <tr>\n",
              "      <th>156</th>\n",
              "      <td>Paket Pekerjaan Konstruksi CWI-01: Constructio...</td>\n",
              "      <td>Kampus Institut Teknologi Sepuluh Nopember, Su...</td>\n",
              "      <td>['Pekerjaan Konstruksi', 'procurement.qualific...</td>\n",
              "      <td>23 Nov 2022 s/d 6 Feb 2023</td>\n",
              "      <td>Pembuktian Kualifikasi</td>\n",
              "      <td>Rp 112.982.779.707</td>\n",
              "    </tr>\n",
              "    <tr>\n",
              "      <th>157</th>\n",
              "      <td>Rekonstruksi Jalan Ruas Siuna - Boalemo (MYC)</td>\n",
              "      <td>Ruas Siuna - Boalemo-Banggai (Kab.)-Sulawesi T...</td>\n",
              "      <td>['Pekerjaan Konstruksi', 'procurement.qualific...</td>\n",
              "      <td>23 Nov 2022 s/d 1 Feb 2023</td>\n",
              "      <td>Pengumuman Pemenang</td>\n",
              "      <td>Rp 62.532.000.000</td>\n",
              "    </tr>\n",
              "    <tr>\n",
              "      <th>158</th>\n",
              "      <td>Rekonstruksi Jalan Ruas Tonusu - Pendolo (MYC)</td>\n",
              "      <td>Ruas Tonusu - Pendolo-Poso (Kab.)-Sulawesi Tengah</td>\n",
              "      <td>['Pekerjaan Konstruksi', 'procurement.qualific...</td>\n",
              "      <td>23 Nov 2022 s/d 1 Feb 2023</td>\n",
              "      <td>Pengumuman Pemenang</td>\n",
              "      <td>Rp 68.599.000.000</td>\n",
              "    </tr>\n",
              "    <tr>\n",
              "      <th>159</th>\n",
              "      <td>Pembangunan Ruas Jalan Bora - Pandere (Kab. Si...</td>\n",
              "      <td>Ruas Bora - Pandere (Kab. Sigi)-Sigi (Kab.)-Su...</td>\n",
              "      <td>['Pekerjaan Konstruksi', 'procurement.qualific...</td>\n",
              "      <td>23 Nov 2022 s/d 1 Feb 2023</td>\n",
              "      <td>Pengumuman Pemenang</td>\n",
              "      <td>Rp 67.914.916.000</td>\n",
              "    </tr>\n",
              "  </tbody>\n",
              "</table>\n",
              "<p>160 rows × 6 columns</p>\n",
              "</div>\n",
              "      <button class=\"colab-df-convert\" onclick=\"convertToInteractive('df-6b9f9c37-9ae2-4f7c-9da5-5e952b5d72e8')\"\n",
              "              title=\"Convert this dataframe to an interactive table.\"\n",
              "              style=\"display:none;\">\n",
              "        \n",
              "  <svg xmlns=\"http://www.w3.org/2000/svg\" height=\"24px\"viewBox=\"0 0 24 24\"\n",
              "       width=\"24px\">\n",
              "    <path d=\"M0 0h24v24H0V0z\" fill=\"none\"/>\n",
              "    <path d=\"M18.56 5.44l.94 2.06.94-2.06 2.06-.94-2.06-.94-.94-2.06-.94 2.06-2.06.94zm-11 1L8.5 8.5l.94-2.06 2.06-.94-2.06-.94L8.5 2.5l-.94 2.06-2.06.94zm10 10l.94 2.06.94-2.06 2.06-.94-2.06-.94-.94-2.06-.94 2.06-2.06.94z\"/><path d=\"M17.41 7.96l-1.37-1.37c-.4-.4-.92-.59-1.43-.59-.52 0-1.04.2-1.43.59L10.3 9.45l-7.72 7.72c-.78.78-.78 2.05 0 2.83L4 21.41c.39.39.9.59 1.41.59.51 0 1.02-.2 1.41-.59l7.78-7.78 2.81-2.81c.8-.78.8-2.07 0-2.86zM5.41 20L4 18.59l7.72-7.72 1.47 1.35L5.41 20z\"/>\n",
              "  </svg>\n",
              "      </button>\n",
              "      \n",
              "  <style>\n",
              "    .colab-df-container {\n",
              "      display:flex;\n",
              "      flex-wrap:wrap;\n",
              "      gap: 12px;\n",
              "    }\n",
              "\n",
              "    .colab-df-convert {\n",
              "      background-color: #E8F0FE;\n",
              "      border: none;\n",
              "      border-radius: 50%;\n",
              "      cursor: pointer;\n",
              "      display: none;\n",
              "      fill: #1967D2;\n",
              "      height: 32px;\n",
              "      padding: 0 0 0 0;\n",
              "      width: 32px;\n",
              "    }\n",
              "\n",
              "    .colab-df-convert:hover {\n",
              "      background-color: #E2EBFA;\n",
              "      box-shadow: 0px 1px 2px rgba(60, 64, 67, 0.3), 0px 1px 3px 1px rgba(60, 64, 67, 0.15);\n",
              "      fill: #174EA6;\n",
              "    }\n",
              "\n",
              "    [theme=dark] .colab-df-convert {\n",
              "      background-color: #3B4455;\n",
              "      fill: #D2E3FC;\n",
              "    }\n",
              "\n",
              "    [theme=dark] .colab-df-convert:hover {\n",
              "      background-color: #434B5C;\n",
              "      box-shadow: 0px 1px 3px 1px rgba(0, 0, 0, 0.15);\n",
              "      filter: drop-shadow(0px 1px 2px rgba(0, 0, 0, 0.3));\n",
              "      fill: #FFFFFF;\n",
              "    }\n",
              "  </style>\n",
              "\n",
              "      <script>\n",
              "        const buttonEl =\n",
              "          document.querySelector('#df-6b9f9c37-9ae2-4f7c-9da5-5e952b5d72e8 button.colab-df-convert');\n",
              "        buttonEl.style.display =\n",
              "          google.colab.kernel.accessAllowed ? 'block' : 'none';\n",
              "\n",
              "        async function convertToInteractive(key) {\n",
              "          const element = document.querySelector('#df-6b9f9c37-9ae2-4f7c-9da5-5e952b5d72e8');\n",
              "          const dataTable =\n",
              "            await google.colab.kernel.invokeFunction('convertToInteractive',\n",
              "                                                     [key], {});\n",
              "          if (!dataTable) return;\n",
              "\n",
              "          const docLinkHtml = 'Like what you see? Visit the ' +\n",
              "            '<a target=\"_blank\" href=https://colab.research.google.com/notebooks/data_table.ipynb>data table notebook</a>'\n",
              "            + ' to learn more about interactive tables.';\n",
              "          element.innerHTML = '';\n",
              "          dataTable['output_type'] = 'display_data';\n",
              "          await google.colab.output.renderOutput(dataTable, element);\n",
              "          const docLink = document.createElement('div');\n",
              "          docLink.innerHTML = docLinkHtml;\n",
              "          element.appendChild(docLink);\n",
              "        }\n",
              "      </script>\n",
              "    </div>\n",
              "  </div>\n",
              "  "
            ]
          },
          "metadata": {},
          "execution_count": 261
        }
      ]
    },
    {
      "cell_type": "markdown",
      "source": [
        "### Menyimpan data frame ke dalam format excel"
      ],
      "metadata": {
        "id": "7dpX8VCN8CSl"
      }
    },
    {
      "cell_type": "code",
      "source": [
        "import openpyxl\n",
        "df.to_excel(\"LPSE.xlsx\", sheet_name=\"Sheet1\", index=False, encoding='utf-8')"
      ],
      "metadata": {
        "id": "VM4NY02x5c8y"
      },
      "execution_count": 262,
      "outputs": []
    },
    {
      "cell_type": "markdown",
      "source": [
        "# **Terima kasih**"
      ],
      "metadata": {
        "id": "6N8d68aC8KLO"
      }
    }
  ]
}