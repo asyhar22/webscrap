{
  "cells": [
    {
      "cell_type": "markdown",
      "metadata": {
        "id": "view-in-github",
        "colab_type": "text"
      },
      "source": [
        "<a href=\"https://colab.research.google.com/github/asyhar22/webscrap/blob/main/News_API.ipynb\" target=\"_parent\"><img src=\"https://colab.research.google.com/assets/colab-badge.svg\" alt=\"Open In Colab\"/></a>"
      ]
    },
    {
      "cell_type": "markdown",
      "source": [
        "# News API Dataload - Mengambil berita dari NewsAPI.org\n",
        "\n",
        "by Muhammad Asyhar"
      ],
      "metadata": {
        "id": "rIN9SrRIQUhV"
      }
    },
    {
      "cell_type": "markdown",
      "source": [
        "### Import library yg dibutuhkan"
      ],
      "metadata": {
        "id": "FjTW18NWQg3u"
      }
    },
    {
      "cell_type": "code",
      "source": [
        "import datetime\n",
        "import pandas as pd\n",
        "import requests"
      ],
      "metadata": {
        "id": "DyVaMJfi3UEl"
      },
      "execution_count": 14,
      "outputs": []
    },
    {
      "cell_type": "markdown",
      "source": [
        "### Parameter URL"
      ],
      "metadata": {
        "id": "vD1NNQb6Q-sO"
      }
    },
    {
      "cell_type": "code",
      "source": [
        "#contoh parameter untuk mendapatkan berita dalam 3 hari ke belakang\n",
        "query = \"gempa\"\n",
        "past30days = (datetime.date.today()-datetime.timedelta(days=3)).strftime('%Y-%m-%d')\n",
        "api_key = \"e931429dc05b485eb431dcb908e65afc\" #isi dengan API key yg diperoleh dari NewsAPI.org\n",
        "\n",
        "#membuat url berdasarkan parameter\n",
        "url = \"https://newsapi.org/v2/everything?q=\"+query+\"&from=\"+past30days+\"&sortBy=popularity&apiKey=\"+api_key\n",
        "print(url)"
      ],
      "metadata": {
        "colab": {
          "base_uri": "https://localhost:8080/"
        },
        "id": "mKkjhSJ3R0cc",
        "outputId": "bcf5346f-cf13-4389-9c9f-dab59e1d1320"
      },
      "execution_count": 15,
      "outputs": [
        {
          "output_type": "stream",
          "name": "stdout",
          "text": [
            "https://newsapi.org/v2/everything?q=gempa&from=2023-01-14&sortBy=popularity&apiKey=e931429dc05b485eb431dcb908e65afc\n"
          ]
        }
      ]
    },
    {
      "cell_type": "markdown",
      "source": [
        "### Response Engine"
      ],
      "metadata": {
        "id": "LKXtv4d_R9IB"
      }
    },
    {
      "cell_type": "code",
      "source": [
        "#mengirimkan request via API untuk mendapatkan response\n",
        "response = requests.get(url)\n",
        "r = response.json()\n",
        "print(r)"
      ],
      "metadata": {
        "colab": {
          "base_uri": "https://localhost:8080/"
        },
        "id": "jC2xbGwwSFef",
        "outputId": "3549fe02-6570-4fae-eaaf-dd2738f39d45"
      },
      "execution_count": 16,
      "outputs": [
        {
          "output_type": "stream",
          "name": "stdout",
          "text": [
            "{'status': 'ok', 'totalResults': 6, 'articles': [{'source': {'id': None, 'name': 'Viva.co.id'}, 'author': 'Agus Setiawan', 'title': 'Gempa Bumi Magnitudo 6,2 Guncang Aceh Singkil, Tidak Berpotensi Tsunami', 'description': 'Gempa tektonik terjadi di wilayah Pantai Selatan Kota Singkil, Aceh, Senin 16 Januari 2023 pukul 05.30 WIB. BMKG sebut gempa bumi ini tidak berpotensi tsunami.', 'url': 'https://www.viva.co.id/berita/nasional/1565713-gempa-bumi-magnitudo-6-2-guncang-aceh-singkil-tidak-berpotensi-tsunami', 'urlToImage': 'https://thumb.viva.co.id/media/frontend/thumbs3/2022/01/23/61ecfb4b3cd0d-ilustrasi-gempa-bumi_665_374.jpg', 'publishedAt': '2023-01-16T03:47:53Z', 'content': 'VIVA Nasional \\xa0Gempa tektonik terjadi di wilayah Pantai Selatan Kota Singkil, Aceh, Senin 16 Januari 2023 pukul 05.30 WIB. Hasil analisis BMKG menunjukkan gempabumi ini memiliki parameter update deng… [+1098 chars]'}, {'source': {'id': None, 'name': 'Viva.co.id'}, 'author': 'Hardani Triyoga', 'title': 'Bogor Diguncang Gempa, BPBD Belum Terima Laporan Kerusakan', 'description': 'Gempa berkekuatan magnitudo 5 mengguncang 25 kilometer di barat laut Kota Bogor pada Minggu, 15 Januari 2023, sekitar pukul 03.32 WIB.', 'url': 'https://www.viva.co.id/berita/nasional/1565503-bogor-diguncang-gempa-bpbd-belum-terima-laporan-kerusakan', 'urlToImage': 'https://thumb.viva.co.id/media/frontend/thumbs3/2021/05/25/60acc6c90c23c-petugas-bpbd-kendal-tunjukkan-titik-gempa_665_374.jpg', 'publishedAt': '2023-01-15T02:06:46Z', 'content': 'VIVA Nasional - Gempa berkekuatan magnitudo 5 mengguncang 25 kilometer di barat laut Kota Bogor pada Minggu, 15 Januari 2023, sekitar pukul 03.32 WIB. Badan Penanggulangan Bencana Daerah (BPBD) Kota … [+1229 chars]'}, {'source': {'id': None, 'name': 'Viva.co.id'}, 'author': 'Lis Yuliawati', 'title': 'Gunung Dieng Berstatus Waspada, Disporapar Jateng Minta Wisatawan Taati Aturan', 'description': 'Potensi bahaya yang bisa ditimbulkan akibat meningkatnya aktivitas vulkanik di Dieng saat ini adalah meningkatnya konsentrasi gas vulkanik terutama CO2 di Kawah Timbang,', 'url': 'https://www.viva.co.id/berita/nasional/1565885-gunung-dieng-berstatus-waspada-disporapar-jateng-minta-wisatawan-taati-aturan', 'urlToImage': 'https://thumb.viva.co.id/media/frontend/thumbs3/2023/01/16/63c520ba86886-kawah-di-dieng-jateng_665_374.jpg', 'publishedAt': '2023-01-16T10:18:46Z', 'content': 'VIVA Nasional\\xa0\\xa0Gunung Dieng saat ini telah ditetapkan berstatus waspada. Itu lantaran ada peningkatan aktivitas di area kawah, baik yang berada di wilayah Kabupaten Wonosobo maupun di Banjarnegara Ja… [+1944 chars]'}, {'source': {'id': None, 'name': 'Viva.co.id'}, 'author': 'Hardani Triyoga', 'title': 'Gempa Sempat Guncang Barat Laut Kota Bogor, Nihil Tsunami', 'description': 'Gempa berkekuatan 5 magnitudo sempat mengguncang barat laut Kota Bogor, Jawa Barat, Minggu pagi, 15 Januari 2023.', 'url': 'https://www.viva.co.id/berita/nasional/1565488-gempa-sempat-guncang-barat-laut-kota-bogor-nihil-tsunami', 'urlToImage': 'https://thumb.viva.co.id/media/frontend/thumbs3/2020/11/18/5fb4c490ba21f-gempa-bumi-di-sumatera-barat_665_374.jpg', 'publishedAt': '2023-01-14T22:50:21Z', 'content': 'VIVA Nasional - Gempa berkekuatan magnitudo 5 mengguncang barat laut Kota Bogor, Jawa Barat, Minggu, 15 Januari 2023. Gempa dilaporkan terjadi sekitar pukul 03.32 WIB.\\r\\nLaporan Badan Meteorologi, Kli… [+486 chars]'}, {'source': {'id': None, 'name': 'Viva.co.id'}, 'author': 'Lis Yuliawati', 'title': 'Status Gunung Dieng Naik Jadi Waspada, Warga dan Wisatawan Diminta Jauhi Kawah Ini', 'description': 'Data PVMBG mencatat perkembangan aktivitas Gunung Dieng hingga Sabtu, 14 Januari 2023, terjadi peningkatan aktivitas vulkanik.', 'url': 'https://www.viva.co.id/berita/nasional/1565583-status-gunung-dieng-naik-jadi-waspada-warga-dan-wisatawan-diminta-jauhi-kawah-ini', 'urlToImage': 'https://thumb.viva.co.id/media/frontend/thumbs3/2018/04/01/5ac0d71be9d97-asap-akibat-letusan-freatik-di-kawah-sileri-di-kompleks-gunung-api-dieng_665_374.jpg', 'publishedAt': '2023-01-15T12:34:01Z', 'content': 'VIVA Nasional\\xa0\\xa0Pusat Vulkanologi dan Mitigasi Bencana Geologi (PVMBG) menetapkan status aktivitas gunung api Dieng di Kabupaten Banjarnegara, Jawa Tengah naik dari level I menjadi level II. Dengan be… [+1969 chars]'}, {'source': {'id': None, 'name': 'Popmama.com'}, 'author': 'Ribka Octaviana Loren', 'title': 'Penyebab Gempa Magnitudo 6,2 yang Mengguncang Aceh Singkil', 'description': 'Penyebab Gempa Magnitudo 6,2 yang Mengguncang Aceh Singkilpopmama.com', 'url': 'https://www.popmama.com/life/health/ribka-octaviana-loren/penyebab-gempa-magnitudo-6-2-yang-mengguncang-aceh-singkil', 'urlToImage': 'https://cdn.popmama.com/content-images/post/20220308/breaking-news-gempa-popmama-04e15bbb347a6c28ec1da782ecbeb6bd_800x420.jpg', 'publishedAt': '2023-01-16T06:23:04Z', 'content': 'Pada hari Senin (16/1/2023) pagi hari pukul 05.30 WIB, terjadi gempa bumi di Kabupaten Aceh Singkil, Aceh. Gempa tersebut berkekuatan magnitudo (M) 6,2 dan berpusat di laut.\\r\\nKepala Pusat Gempa Bumi … [+2370 chars]'}]}\n"
          ]
        }
      ]
    },
    {
      "cell_type": "markdown",
      "source": [
        "### Membuat DataFrame"
      ],
      "metadata": {
        "id": "T7byGJzMSPYs"
      }
    },
    {
      "cell_type": "code",
      "source": [
        "#create data frame from response\n",
        "df = pd.json_normalize(r,\"articles\")\n",
        "df.head()"
      ],
      "metadata": {
        "colab": {
          "base_uri": "https://localhost:8080/",
          "height": 545
        },
        "id": "tyCXM5MrSQBb",
        "outputId": "0a64b4f1-3c3a-4409-a581-0d1a663aa923"
      },
      "execution_count": 17,
      "outputs": [
        {
          "output_type": "execute_result",
          "data": {
            "text/plain": [
              "            author                                              title  \\\n",
              "0    Agus Setiawan  Gempa Bumi Magnitudo 6,2 Guncang Aceh Singkil,...   \n",
              "1  Hardani Triyoga  Bogor Diguncang Gempa, BPBD Belum Terima Lapor...   \n",
              "2    Lis Yuliawati  Gunung Dieng Berstatus Waspada, Disporapar Jat...   \n",
              "3  Hardani Triyoga  Gempa Sempat Guncang Barat Laut Kota Bogor, Ni...   \n",
              "4    Lis Yuliawati  Status Gunung Dieng Naik Jadi Waspada, Warga d...   \n",
              "\n",
              "                                         description  \\\n",
              "0  Gempa tektonik terjadi di wilayah Pantai Selat...   \n",
              "1  Gempa berkekuatan magnitudo 5 mengguncang 25 k...   \n",
              "2  Potensi bahaya yang bisa ditimbulkan akibat me...   \n",
              "3  Gempa berkekuatan 5 magnitudo sempat menggunca...   \n",
              "4  Data PVMBG mencatat perkembangan aktivitas Gun...   \n",
              "\n",
              "                                                 url  \\\n",
              "0  https://www.viva.co.id/berita/nasional/1565713...   \n",
              "1  https://www.viva.co.id/berita/nasional/1565503...   \n",
              "2  https://www.viva.co.id/berita/nasional/1565885...   \n",
              "3  https://www.viva.co.id/berita/nasional/1565488...   \n",
              "4  https://www.viva.co.id/berita/nasional/1565583...   \n",
              "\n",
              "                                          urlToImage           publishedAt  \\\n",
              "0  https://thumb.viva.co.id/media/frontend/thumbs...  2023-01-16T03:47:53Z   \n",
              "1  https://thumb.viva.co.id/media/frontend/thumbs...  2023-01-15T02:06:46Z   \n",
              "2  https://thumb.viva.co.id/media/frontend/thumbs...  2023-01-16T10:18:46Z   \n",
              "3  https://thumb.viva.co.id/media/frontend/thumbs...  2023-01-14T22:50:21Z   \n",
              "4  https://thumb.viva.co.id/media/frontend/thumbs...  2023-01-15T12:34:01Z   \n",
              "\n",
              "                                             content source.id source.name  \n",
              "0  VIVA Nasional  Gempa tektonik terjadi di wilay...      None  Viva.co.id  \n",
              "1  VIVA Nasional - Gempa berkekuatan magnitudo 5 ...      None  Viva.co.id  \n",
              "2  VIVA Nasional  Gunung Dieng saat ini telah dit...      None  Viva.co.id  \n",
              "3  VIVA Nasional - Gempa berkekuatan magnitudo 5 ...      None  Viva.co.id  \n",
              "4  VIVA Nasional  Pusat Vulkanologi dan Mitigasi ...      None  Viva.co.id  "
            ],
            "text/html": [
              "\n",
              "  <div id=\"df-b72caf3d-5ce4-47ba-adad-93007d2f2df4\">\n",
              "    <div class=\"colab-df-container\">\n",
              "      <div>\n",
              "<style scoped>\n",
              "    .dataframe tbody tr th:only-of-type {\n",
              "        vertical-align: middle;\n",
              "    }\n",
              "\n",
              "    .dataframe tbody tr th {\n",
              "        vertical-align: top;\n",
              "    }\n",
              "\n",
              "    .dataframe thead th {\n",
              "        text-align: right;\n",
              "    }\n",
              "</style>\n",
              "<table border=\"1\" class=\"dataframe\">\n",
              "  <thead>\n",
              "    <tr style=\"text-align: right;\">\n",
              "      <th></th>\n",
              "      <th>author</th>\n",
              "      <th>title</th>\n",
              "      <th>description</th>\n",
              "      <th>url</th>\n",
              "      <th>urlToImage</th>\n",
              "      <th>publishedAt</th>\n",
              "      <th>content</th>\n",
              "      <th>source.id</th>\n",
              "      <th>source.name</th>\n",
              "    </tr>\n",
              "  </thead>\n",
              "  <tbody>\n",
              "    <tr>\n",
              "      <th>0</th>\n",
              "      <td>Agus Setiawan</td>\n",
              "      <td>Gempa Bumi Magnitudo 6,2 Guncang Aceh Singkil,...</td>\n",
              "      <td>Gempa tektonik terjadi di wilayah Pantai Selat...</td>\n",
              "      <td>https://www.viva.co.id/berita/nasional/1565713...</td>\n",
              "      <td>https://thumb.viva.co.id/media/frontend/thumbs...</td>\n",
              "      <td>2023-01-16T03:47:53Z</td>\n",
              "      <td>VIVA Nasional  Gempa tektonik terjadi di wilay...</td>\n",
              "      <td>None</td>\n",
              "      <td>Viva.co.id</td>\n",
              "    </tr>\n",
              "    <tr>\n",
              "      <th>1</th>\n",
              "      <td>Hardani Triyoga</td>\n",
              "      <td>Bogor Diguncang Gempa, BPBD Belum Terima Lapor...</td>\n",
              "      <td>Gempa berkekuatan magnitudo 5 mengguncang 25 k...</td>\n",
              "      <td>https://www.viva.co.id/berita/nasional/1565503...</td>\n",
              "      <td>https://thumb.viva.co.id/media/frontend/thumbs...</td>\n",
              "      <td>2023-01-15T02:06:46Z</td>\n",
              "      <td>VIVA Nasional - Gempa berkekuatan magnitudo 5 ...</td>\n",
              "      <td>None</td>\n",
              "      <td>Viva.co.id</td>\n",
              "    </tr>\n",
              "    <tr>\n",
              "      <th>2</th>\n",
              "      <td>Lis Yuliawati</td>\n",
              "      <td>Gunung Dieng Berstatus Waspada, Disporapar Jat...</td>\n",
              "      <td>Potensi bahaya yang bisa ditimbulkan akibat me...</td>\n",
              "      <td>https://www.viva.co.id/berita/nasional/1565885...</td>\n",
              "      <td>https://thumb.viva.co.id/media/frontend/thumbs...</td>\n",
              "      <td>2023-01-16T10:18:46Z</td>\n",
              "      <td>VIVA Nasional  Gunung Dieng saat ini telah dit...</td>\n",
              "      <td>None</td>\n",
              "      <td>Viva.co.id</td>\n",
              "    </tr>\n",
              "    <tr>\n",
              "      <th>3</th>\n",
              "      <td>Hardani Triyoga</td>\n",
              "      <td>Gempa Sempat Guncang Barat Laut Kota Bogor, Ni...</td>\n",
              "      <td>Gempa berkekuatan 5 magnitudo sempat menggunca...</td>\n",
              "      <td>https://www.viva.co.id/berita/nasional/1565488...</td>\n",
              "      <td>https://thumb.viva.co.id/media/frontend/thumbs...</td>\n",
              "      <td>2023-01-14T22:50:21Z</td>\n",
              "      <td>VIVA Nasional - Gempa berkekuatan magnitudo 5 ...</td>\n",
              "      <td>None</td>\n",
              "      <td>Viva.co.id</td>\n",
              "    </tr>\n",
              "    <tr>\n",
              "      <th>4</th>\n",
              "      <td>Lis Yuliawati</td>\n",
              "      <td>Status Gunung Dieng Naik Jadi Waspada, Warga d...</td>\n",
              "      <td>Data PVMBG mencatat perkembangan aktivitas Gun...</td>\n",
              "      <td>https://www.viva.co.id/berita/nasional/1565583...</td>\n",
              "      <td>https://thumb.viva.co.id/media/frontend/thumbs...</td>\n",
              "      <td>2023-01-15T12:34:01Z</td>\n",
              "      <td>VIVA Nasional  Pusat Vulkanologi dan Mitigasi ...</td>\n",
              "      <td>None</td>\n",
              "      <td>Viva.co.id</td>\n",
              "    </tr>\n",
              "  </tbody>\n",
              "</table>\n",
              "</div>\n",
              "      <button class=\"colab-df-convert\" onclick=\"convertToInteractive('df-b72caf3d-5ce4-47ba-adad-93007d2f2df4')\"\n",
              "              title=\"Convert this dataframe to an interactive table.\"\n",
              "              style=\"display:none;\">\n",
              "        \n",
              "  <svg xmlns=\"http://www.w3.org/2000/svg\" height=\"24px\"viewBox=\"0 0 24 24\"\n",
              "       width=\"24px\">\n",
              "    <path d=\"M0 0h24v24H0V0z\" fill=\"none\"/>\n",
              "    <path d=\"M18.56 5.44l.94 2.06.94-2.06 2.06-.94-2.06-.94-.94-2.06-.94 2.06-2.06.94zm-11 1L8.5 8.5l.94-2.06 2.06-.94-2.06-.94L8.5 2.5l-.94 2.06-2.06.94zm10 10l.94 2.06.94-2.06 2.06-.94-2.06-.94-.94-2.06-.94 2.06-2.06.94z\"/><path d=\"M17.41 7.96l-1.37-1.37c-.4-.4-.92-.59-1.43-.59-.52 0-1.04.2-1.43.59L10.3 9.45l-7.72 7.72c-.78.78-.78 2.05 0 2.83L4 21.41c.39.39.9.59 1.41.59.51 0 1.02-.2 1.41-.59l7.78-7.78 2.81-2.81c.8-.78.8-2.07 0-2.86zM5.41 20L4 18.59l7.72-7.72 1.47 1.35L5.41 20z\"/>\n",
              "  </svg>\n",
              "      </button>\n",
              "      \n",
              "  <style>\n",
              "    .colab-df-container {\n",
              "      display:flex;\n",
              "      flex-wrap:wrap;\n",
              "      gap: 12px;\n",
              "    }\n",
              "\n",
              "    .colab-df-convert {\n",
              "      background-color: #E8F0FE;\n",
              "      border: none;\n",
              "      border-radius: 50%;\n",
              "      cursor: pointer;\n",
              "      display: none;\n",
              "      fill: #1967D2;\n",
              "      height: 32px;\n",
              "      padding: 0 0 0 0;\n",
              "      width: 32px;\n",
              "    }\n",
              "\n",
              "    .colab-df-convert:hover {\n",
              "      background-color: #E2EBFA;\n",
              "      box-shadow: 0px 1px 2px rgba(60, 64, 67, 0.3), 0px 1px 3px 1px rgba(60, 64, 67, 0.15);\n",
              "      fill: #174EA6;\n",
              "    }\n",
              "\n",
              "    [theme=dark] .colab-df-convert {\n",
              "      background-color: #3B4455;\n",
              "      fill: #D2E3FC;\n",
              "    }\n",
              "\n",
              "    [theme=dark] .colab-df-convert:hover {\n",
              "      background-color: #434B5C;\n",
              "      box-shadow: 0px 1px 3px 1px rgba(0, 0, 0, 0.15);\n",
              "      filter: drop-shadow(0px 1px 2px rgba(0, 0, 0, 0.3));\n",
              "      fill: #FFFFFF;\n",
              "    }\n",
              "  </style>\n",
              "\n",
              "      <script>\n",
              "        const buttonEl =\n",
              "          document.querySelector('#df-b72caf3d-5ce4-47ba-adad-93007d2f2df4 button.colab-df-convert');\n",
              "        buttonEl.style.display =\n",
              "          google.colab.kernel.accessAllowed ? 'block' : 'none';\n",
              "\n",
              "        async function convertToInteractive(key) {\n",
              "          const element = document.querySelector('#df-b72caf3d-5ce4-47ba-adad-93007d2f2df4');\n",
              "          const dataTable =\n",
              "            await google.colab.kernel.invokeFunction('convertToInteractive',\n",
              "                                                     [key], {});\n",
              "          if (!dataTable) return;\n",
              "\n",
              "          const docLinkHtml = 'Like what you see? Visit the ' +\n",
              "            '<a target=\"_blank\" href=https://colab.research.google.com/notebooks/data_table.ipynb>data table notebook</a>'\n",
              "            + ' to learn more about interactive tables.';\n",
              "          element.innerHTML = '';\n",
              "          dataTable['output_type'] = 'display_data';\n",
              "          await google.colab.output.renderOutput(dataTable, element);\n",
              "          const docLink = document.createElement('div');\n",
              "          docLink.innerHTML = docLinkHtml;\n",
              "          element.appendChild(docLink);\n",
              "        }\n",
              "      </script>\n",
              "    </div>\n",
              "  </div>\n",
              "  "
            ]
          },
          "metadata": {},
          "execution_count": 17
        }
      ]
    }
  ],
  "metadata": {
    "colab": {
      "provenance": [],
      "authorship_tag": "ABX9TyOs3S/3JAtSA0CBxng9hloG",
      "include_colab_link": true
    },
    "kernelspec": {
      "display_name": "Python 3",
      "name": "python3"
    },
    "language_info": {
      "name": "python"
    }
  },
  "nbformat": 4,
  "nbformat_minor": 0
}