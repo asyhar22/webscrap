{
  "nbformat": 4,
  "nbformat_minor": 0,
  "metadata": {
    "colab": {
      "provenance": [],
      "authorship_tag": "ABX9TyOn6hKaOPNOv/wCqESHi+Oa",
      "include_colab_link": true
    },
    "kernelspec": {
      "name": "python3",
      "display_name": "Python 3"
    },
    "language_info": {
      "name": "python"
    }
  },
  "cells": [
    {
      "cell_type": "markdown",
      "metadata": {
        "id": "view-in-github",
        "colab_type": "text"
      },
      "source": [
        "<a href=\"https://colab.research.google.com/github/asyhar22/webscrap/blob/main/Scrapping_Data_Tour_de_France.ipynb\" target=\"_parent\"><img src=\"https://colab.research.google.com/assets/colab-badge.svg\" alt=\"Open In Colab\"/></a>"
      ]
    },
    {
      "cell_type": "markdown",
      "source": [
        "# **Scrapping Data Tour de France tahun 2010 sd 2022**\n",
        "by Muhammad Asyhar"
      ],
      "metadata": {
        "id": "68mR6C7GP74A"
      }
    },
    {
      "cell_type": "markdown",
      "source": [
        "Sebelum memulai, perlu dilakukan inspect element di browser untuk mengetahui skema pemanggilan data melalui web, dalam hal ini misalnya untuk memperoleh data Tahun 2022, Stage 21, Tipe Individual(Stage) adalah dengan memanggil https://letour.fr/en/block/history/11822/ca646e1b4b99d7ee973c457c87392395?stage=21&type=ite di mana\n",
        "- URL = \"https://letour.fr\"\n",
        "- Path = \"/en/block/history/11822/ca646e1b4b99d7ee973c457c87392395\" --> mewakili Tahun\n",
        "- Parameter = \"stage=21&type=ite\" --> mewakili Stage dan Type Rangking"
      ],
      "metadata": {
        "id": "_WXv8DGaNd4V"
      }
    },
    {
      "cell_type": "markdown",
      "source": [
        "## Langkah langkah:\n",
        "1. Mengakses halaman https://www.letour.fr/en/history\n",
        "2. Mendapatkan path header untuk masing-masing tahun\n",
        "3. Mendefinisikan race type\n",
        "4. Mendefinisikan stage\n",
        "5. Membuat URL dengan menggabungkan data pada langkah 2, 3, dan 4\n",
        "6. Membuat dataframe dari tabel response (sekaligus menambahkan kolom tahun dan stage, serta membuat race id eg:202201 (tahun 2022 stage 1))\n",
        "7. Menyimpan file ke csv"
      ],
      "metadata": {
        "id": "azzw5en4QOd4"
      }
    },
    {
      "cell_type": "markdown",
      "source": [
        "####1. Mengakses halaman https://www.letour.fr/en/history"
      ],
      "metadata": {
        "id": "clvVgYoUSb19"
      }
    },
    {
      "cell_type": "code",
      "source": [
        "import requests\n",
        "\n",
        "url = 'https://www.letour.fr/en/history'\n",
        "r = requests.get(url)\n",
        "r.status_code"
      ],
      "metadata": {
        "colab": {
          "base_uri": "https://localhost:8080/"
        },
        "id": "YEP-5-RvQM70",
        "outputId": "14a82550-34a1-438b-e292-bf0bfecb133f"
      },
      "execution_count": 1,
      "outputs": [
        {
          "output_type": "execute_result",
          "data": {
            "text/plain": [
              "200"
            ]
          },
          "metadata": {},
          "execution_count": 1
        }
      ]
    },
    {
      "cell_type": "markdown",
      "source": [
        "status code 200 menunjukan bahwa akses ke URL tersebut berhasil"
      ],
      "metadata": {
        "id": "bQ4CUfmEI3xE"
      }
    },
    {
      "cell_type": "markdown",
      "source": [
        "####2. Mendapatkan path header untuk masing-masing tahun"
      ],
      "metadata": {
        "id": "Y7tYHQk6S6pI"
      }
    },
    {
      "cell_type": "code",
      "source": [
        "from bs4 import BeautifulSoup"
      ],
      "metadata": {
        "id": "69T7O-MJUu6f"
      },
      "execution_count": 2,
      "outputs": []
    },
    {
      "cell_type": "code",
      "source": [
        "soup = BeautifulSoup(r.text,'html.parser')"
      ],
      "metadata": {
        "id": "8PRVlyVJUuL5"
      },
      "execution_count": 3,
      "outputs": []
    },
    {
      "cell_type": "code",
      "source": [
        "#hasil inspect browser\n",
        "year_test = 2010\n",
        "path_test = soup.find('button',{'class': 'dateTabs__link js-tabs','data-tabs-target':year_test})\n",
        "path_test"
      ],
      "metadata": {
        "colab": {
          "base_uri": "https://localhost:8080/"
        },
        "id": "nh_hZYtxUuA3",
        "outputId": "5692aa5b-87ca-452b-e2c7-37e4d556d582"
      },
      "execution_count": 4,
      "outputs": [
        {
          "output_type": "execute_result",
          "data": {
            "text/plain": [
              "<button class=\"dateTabs__link js-tabs\" data-clicktype=\"A\" data-tabs-ajax=\"/en/block/history/10803/757e8e81b7183fde7329fd8ab9b69783\" data-tabs-target=\"2010\" data-xtclick=\"history::navTabs::item::link::2010\">2010</button>"
            ]
          },
          "metadata": {},
          "execution_count": 4
        }
      ]
    },
    {
      "cell_type": "markdown",
      "source": [
        "Langkah ini bertujuan untuk memperoleh bagian \"/en/block/history/10803/757e8e81b7183fde7329fd8ab9b69783\" yang merupakan bagian unik yang mewakili data \"Tahun\"."
      ],
      "metadata": {
        "id": "bvNb11vHJQ3M"
      }
    },
    {
      "cell_type": "code",
      "source": [
        "#testing untuk menguji code yang tepat untuk memanggil path\n",
        "print(path_test['data-tabs-ajax'])"
      ],
      "metadata": {
        "colab": {
          "base_uri": "https://localhost:8080/"
        },
        "id": "Lzcmk7i_ah1u",
        "outputId": "42dfd72b-9f86-4200-e1a6-a99b421ad09b"
      },
      "execution_count": 5,
      "outputs": [
        {
          "output_type": "stream",
          "name": "stdout",
          "text": [
            "/en/block/history/10803/757e8e81b7183fde7329fd8ab9b69783\n"
          ]
        }
      ]
    },
    {
      "cell_type": "code",
      "source": [
        "#membuat list tahun yang akan diambil datanya\n",
        "years = list(range(2010,2023))\n",
        "years"
      ],
      "metadata": {
        "colab": {
          "base_uri": "https://localhost:8080/"
        },
        "id": "oG4sUGT8cI7d",
        "outputId": "85f4dfbf-28fa-4e4b-9c39-c13d6d5df1ce"
      },
      "execution_count": 6,
      "outputs": [
        {
          "output_type": "execute_result",
          "data": {
            "text/plain": [
              "[2010, 2011, 2012, 2013, 2014, 2015, 2016, 2017, 2018, 2019, 2020, 2021, 2022]"
            ]
          },
          "metadata": {},
          "execution_count": 6
        }
      ]
    },
    {
      "cell_type": "code",
      "source": [
        "path = list(soup.find('button',{'class': 'dateTabs__link js-tabs','data-tabs-target':year})['data-tabs-ajax'] for year in years)\n",
        "path"
      ],
      "metadata": {
        "colab": {
          "base_uri": "https://localhost:8080/"
        },
        "id": "C_BLofp4cI4y",
        "outputId": "d2e40733-f344-4530-f561-bf38b1cb74cb"
      },
      "execution_count": 7,
      "outputs": [
        {
          "output_type": "execute_result",
          "data": {
            "text/plain": [
              "['/en/block/history/10803/757e8e81b7183fde7329fd8ab9b69783',\n",
              " '/en/block/history/10804/89b36b01ffe439e016ec1d59c57b63d1',\n",
              " '/en/block/history/10805/1ec24b4375d16b922c9c9c489d25465c',\n",
              " '/en/block/history/10806/196e36cfe7aff4b5fc2d1055f7dcf864',\n",
              " '/en/block/history/10807/d538a7fbdfc0d657fbf064561840fbb1',\n",
              " '/en/block/history/10808/3f166bedb535ee9bff2fb7ead0a7812c',\n",
              " '/en/block/history/10809/7be3a459d846b4672915c576cb7ed6b9',\n",
              " '/en/block/history/10810/7035a5dc53631209d3581f64a433b10d',\n",
              " '/en/block/history/11818/f34c3404d95a697dcf77d4cd8e8278fa',\n",
              " '/en/block/history/11819/96c0eb3fa403ebf222f28b6e45115c56',\n",
              " '/en/block/history/11820/17fa8e795e69e9f326ea26cf9912e571',\n",
              " '/en/block/history/11821/a3fe7d350ef546e3c27ae83a84fa3a0b',\n",
              " '/en/block/history/11822/ca646e1b4b99d7ee973c457c87392395']"
            ]
          },
          "metadata": {},
          "execution_count": 7
        }
      ]
    },
    {
      "cell_type": "markdown",
      "source": [
        "path untuk masing-masing tahun sudah diperoleh, selanjutnya perlu dibuat dictionary agar masing-masing path dapat teridentifikasi pada saat dilakukan otomasi kemudian."
      ],
      "metadata": {
        "id": "ITB1sQC7LFKM"
      }
    },
    {
      "cell_type": "code",
      "source": [
        "path_dict = dict(zip(years,path))\n",
        "path_dict"
      ],
      "metadata": {
        "colab": {
          "base_uri": "https://localhost:8080/"
        },
        "id": "DXD13S5ccI2H",
        "outputId": "a48dac3b-8579-46cb-d7de-91cf9292b0da"
      },
      "execution_count": 8,
      "outputs": [
        {
          "output_type": "execute_result",
          "data": {
            "text/plain": [
              "{2010: '/en/block/history/10803/757e8e81b7183fde7329fd8ab9b69783',\n",
              " 2011: '/en/block/history/10804/89b36b01ffe439e016ec1d59c57b63d1',\n",
              " 2012: '/en/block/history/10805/1ec24b4375d16b922c9c9c489d25465c',\n",
              " 2013: '/en/block/history/10806/196e36cfe7aff4b5fc2d1055f7dcf864',\n",
              " 2014: '/en/block/history/10807/d538a7fbdfc0d657fbf064561840fbb1',\n",
              " 2015: '/en/block/history/10808/3f166bedb535ee9bff2fb7ead0a7812c',\n",
              " 2016: '/en/block/history/10809/7be3a459d846b4672915c576cb7ed6b9',\n",
              " 2017: '/en/block/history/10810/7035a5dc53631209d3581f64a433b10d',\n",
              " 2018: '/en/block/history/11818/f34c3404d95a697dcf77d4cd8e8278fa',\n",
              " 2019: '/en/block/history/11819/96c0eb3fa403ebf222f28b6e45115c56',\n",
              " 2020: '/en/block/history/11820/17fa8e795e69e9f326ea26cf9912e571',\n",
              " 2021: '/en/block/history/11821/a3fe7d350ef546e3c27ae83a84fa3a0b',\n",
              " 2022: '/en/block/history/11822/ca646e1b4b99d7ee973c457c87392395'}"
            ]
          },
          "metadata": {},
          "execution_count": 8
        }
      ]
    },
    {
      "cell_type": "markdown",
      "source": [
        "####3. Mendefinisikan race type"
      ],
      "metadata": {
        "id": "QBRmyy-pS8on"
      }
    },
    {
      "cell_type": "code",
      "source": [
        "#untuk individual (stage)\n",
        "race_type = 'ite'"
      ],
      "metadata": {
        "id": "F6k6j56YvLCP"
      },
      "execution_count": 9,
      "outputs": []
    },
    {
      "cell_type": "markdown",
      "source": [
        "####4. Mendefinisikan stage"
      ],
      "metadata": {
        "id": "KpzUvIEkS-wx"
      }
    },
    {
      "cell_type": "code",
      "source": [
        "#ada 21 stage dalam setiap gelaran TDF\n",
        "stage_list = list(range(1,22))\n",
        "stage_list"
      ],
      "metadata": {
        "colab": {
          "base_uri": "https://localhost:8080/"
        },
        "id": "FGUAVPBFvhVa",
        "outputId": "072aa50b-3858-46f4-bdce-2d15638be1a9"
      },
      "execution_count": 10,
      "outputs": [
        {
          "output_type": "execute_result",
          "data": {
            "text/plain": [
              "[1, 2, 3, 4, 5, 6, 7, 8, 9, 10, 11, 12, 13, 14, 15, 16, 17, 18, 19, 20, 21]"
            ]
          },
          "metadata": {},
          "execution_count": 10
        }
      ]
    },
    {
      "cell_type": "markdown",
      "source": [
        "####5. Membuat URL request untuk masing-masing tahun, race type, & stage"
      ],
      "metadata": {
        "id": "bRfyMTV0TA8B"
      }
    },
    {
      "cell_type": "code",
      "source": [
        "# untuk masing masing tahun\n",
        "for year in years:\n",
        "  # untuk masing-masing stage\n",
        "  for stage in stage_list:\n",
        "    print(f'https://letour.fr{path_dict[year]}?stage={stage}&type={race_type}')"
      ],
      "metadata": {
        "colab": {
          "base_uri": "https://localhost:8080/"
        },
        "id": "_OtBLn8ov0k1",
        "outputId": "0e7dede9-5439-4c32-9309-0ae308ecf747"
      },
      "execution_count": 11,
      "outputs": [
        {
          "output_type": "stream",
          "name": "stdout",
          "text": [
            "https://letour.fr/en/block/history/10803/757e8e81b7183fde7329fd8ab9b69783?stage=1&type=ite\n",
            "https://letour.fr/en/block/history/10803/757e8e81b7183fde7329fd8ab9b69783?stage=2&type=ite\n",
            "https://letour.fr/en/block/history/10803/757e8e81b7183fde7329fd8ab9b69783?stage=3&type=ite\n",
            "https://letour.fr/en/block/history/10803/757e8e81b7183fde7329fd8ab9b69783?stage=4&type=ite\n",
            "https://letour.fr/en/block/history/10803/757e8e81b7183fde7329fd8ab9b69783?stage=5&type=ite\n",
            "https://letour.fr/en/block/history/10803/757e8e81b7183fde7329fd8ab9b69783?stage=6&type=ite\n",
            "https://letour.fr/en/block/history/10803/757e8e81b7183fde7329fd8ab9b69783?stage=7&type=ite\n",
            "https://letour.fr/en/block/history/10803/757e8e81b7183fde7329fd8ab9b69783?stage=8&type=ite\n",
            "https://letour.fr/en/block/history/10803/757e8e81b7183fde7329fd8ab9b69783?stage=9&type=ite\n",
            "https://letour.fr/en/block/history/10803/757e8e81b7183fde7329fd8ab9b69783?stage=10&type=ite\n",
            "https://letour.fr/en/block/history/10803/757e8e81b7183fde7329fd8ab9b69783?stage=11&type=ite\n",
            "https://letour.fr/en/block/history/10803/757e8e81b7183fde7329fd8ab9b69783?stage=12&type=ite\n",
            "https://letour.fr/en/block/history/10803/757e8e81b7183fde7329fd8ab9b69783?stage=13&type=ite\n",
            "https://letour.fr/en/block/history/10803/757e8e81b7183fde7329fd8ab9b69783?stage=14&type=ite\n",
            "https://letour.fr/en/block/history/10803/757e8e81b7183fde7329fd8ab9b69783?stage=15&type=ite\n",
            "https://letour.fr/en/block/history/10803/757e8e81b7183fde7329fd8ab9b69783?stage=16&type=ite\n",
            "https://letour.fr/en/block/history/10803/757e8e81b7183fde7329fd8ab9b69783?stage=17&type=ite\n",
            "https://letour.fr/en/block/history/10803/757e8e81b7183fde7329fd8ab9b69783?stage=18&type=ite\n",
            "https://letour.fr/en/block/history/10803/757e8e81b7183fde7329fd8ab9b69783?stage=19&type=ite\n",
            "https://letour.fr/en/block/history/10803/757e8e81b7183fde7329fd8ab9b69783?stage=20&type=ite\n",
            "https://letour.fr/en/block/history/10803/757e8e81b7183fde7329fd8ab9b69783?stage=21&type=ite\n",
            "https://letour.fr/en/block/history/10804/89b36b01ffe439e016ec1d59c57b63d1?stage=1&type=ite\n",
            "https://letour.fr/en/block/history/10804/89b36b01ffe439e016ec1d59c57b63d1?stage=2&type=ite\n",
            "https://letour.fr/en/block/history/10804/89b36b01ffe439e016ec1d59c57b63d1?stage=3&type=ite\n",
            "https://letour.fr/en/block/history/10804/89b36b01ffe439e016ec1d59c57b63d1?stage=4&type=ite\n",
            "https://letour.fr/en/block/history/10804/89b36b01ffe439e016ec1d59c57b63d1?stage=5&type=ite\n",
            "https://letour.fr/en/block/history/10804/89b36b01ffe439e016ec1d59c57b63d1?stage=6&type=ite\n",
            "https://letour.fr/en/block/history/10804/89b36b01ffe439e016ec1d59c57b63d1?stage=7&type=ite\n",
            "https://letour.fr/en/block/history/10804/89b36b01ffe439e016ec1d59c57b63d1?stage=8&type=ite\n",
            "https://letour.fr/en/block/history/10804/89b36b01ffe439e016ec1d59c57b63d1?stage=9&type=ite\n",
            "https://letour.fr/en/block/history/10804/89b36b01ffe439e016ec1d59c57b63d1?stage=10&type=ite\n",
            "https://letour.fr/en/block/history/10804/89b36b01ffe439e016ec1d59c57b63d1?stage=11&type=ite\n",
            "https://letour.fr/en/block/history/10804/89b36b01ffe439e016ec1d59c57b63d1?stage=12&type=ite\n",
            "https://letour.fr/en/block/history/10804/89b36b01ffe439e016ec1d59c57b63d1?stage=13&type=ite\n",
            "https://letour.fr/en/block/history/10804/89b36b01ffe439e016ec1d59c57b63d1?stage=14&type=ite\n",
            "https://letour.fr/en/block/history/10804/89b36b01ffe439e016ec1d59c57b63d1?stage=15&type=ite\n",
            "https://letour.fr/en/block/history/10804/89b36b01ffe439e016ec1d59c57b63d1?stage=16&type=ite\n",
            "https://letour.fr/en/block/history/10804/89b36b01ffe439e016ec1d59c57b63d1?stage=17&type=ite\n",
            "https://letour.fr/en/block/history/10804/89b36b01ffe439e016ec1d59c57b63d1?stage=18&type=ite\n",
            "https://letour.fr/en/block/history/10804/89b36b01ffe439e016ec1d59c57b63d1?stage=19&type=ite\n",
            "https://letour.fr/en/block/history/10804/89b36b01ffe439e016ec1d59c57b63d1?stage=20&type=ite\n",
            "https://letour.fr/en/block/history/10804/89b36b01ffe439e016ec1d59c57b63d1?stage=21&type=ite\n",
            "https://letour.fr/en/block/history/10805/1ec24b4375d16b922c9c9c489d25465c?stage=1&type=ite\n",
            "https://letour.fr/en/block/history/10805/1ec24b4375d16b922c9c9c489d25465c?stage=2&type=ite\n",
            "https://letour.fr/en/block/history/10805/1ec24b4375d16b922c9c9c489d25465c?stage=3&type=ite\n",
            "https://letour.fr/en/block/history/10805/1ec24b4375d16b922c9c9c489d25465c?stage=4&type=ite\n",
            "https://letour.fr/en/block/history/10805/1ec24b4375d16b922c9c9c489d25465c?stage=5&type=ite\n",
            "https://letour.fr/en/block/history/10805/1ec24b4375d16b922c9c9c489d25465c?stage=6&type=ite\n",
            "https://letour.fr/en/block/history/10805/1ec24b4375d16b922c9c9c489d25465c?stage=7&type=ite\n",
            "https://letour.fr/en/block/history/10805/1ec24b4375d16b922c9c9c489d25465c?stage=8&type=ite\n",
            "https://letour.fr/en/block/history/10805/1ec24b4375d16b922c9c9c489d25465c?stage=9&type=ite\n",
            "https://letour.fr/en/block/history/10805/1ec24b4375d16b922c9c9c489d25465c?stage=10&type=ite\n",
            "https://letour.fr/en/block/history/10805/1ec24b4375d16b922c9c9c489d25465c?stage=11&type=ite\n",
            "https://letour.fr/en/block/history/10805/1ec24b4375d16b922c9c9c489d25465c?stage=12&type=ite\n",
            "https://letour.fr/en/block/history/10805/1ec24b4375d16b922c9c9c489d25465c?stage=13&type=ite\n",
            "https://letour.fr/en/block/history/10805/1ec24b4375d16b922c9c9c489d25465c?stage=14&type=ite\n",
            "https://letour.fr/en/block/history/10805/1ec24b4375d16b922c9c9c489d25465c?stage=15&type=ite\n",
            "https://letour.fr/en/block/history/10805/1ec24b4375d16b922c9c9c489d25465c?stage=16&type=ite\n",
            "https://letour.fr/en/block/history/10805/1ec24b4375d16b922c9c9c489d25465c?stage=17&type=ite\n",
            "https://letour.fr/en/block/history/10805/1ec24b4375d16b922c9c9c489d25465c?stage=18&type=ite\n",
            "https://letour.fr/en/block/history/10805/1ec24b4375d16b922c9c9c489d25465c?stage=19&type=ite\n",
            "https://letour.fr/en/block/history/10805/1ec24b4375d16b922c9c9c489d25465c?stage=20&type=ite\n",
            "https://letour.fr/en/block/history/10805/1ec24b4375d16b922c9c9c489d25465c?stage=21&type=ite\n",
            "https://letour.fr/en/block/history/10806/196e36cfe7aff4b5fc2d1055f7dcf864?stage=1&type=ite\n",
            "https://letour.fr/en/block/history/10806/196e36cfe7aff4b5fc2d1055f7dcf864?stage=2&type=ite\n",
            "https://letour.fr/en/block/history/10806/196e36cfe7aff4b5fc2d1055f7dcf864?stage=3&type=ite\n",
            "https://letour.fr/en/block/history/10806/196e36cfe7aff4b5fc2d1055f7dcf864?stage=4&type=ite\n",
            "https://letour.fr/en/block/history/10806/196e36cfe7aff4b5fc2d1055f7dcf864?stage=5&type=ite\n",
            "https://letour.fr/en/block/history/10806/196e36cfe7aff4b5fc2d1055f7dcf864?stage=6&type=ite\n",
            "https://letour.fr/en/block/history/10806/196e36cfe7aff4b5fc2d1055f7dcf864?stage=7&type=ite\n",
            "https://letour.fr/en/block/history/10806/196e36cfe7aff4b5fc2d1055f7dcf864?stage=8&type=ite\n",
            "https://letour.fr/en/block/history/10806/196e36cfe7aff4b5fc2d1055f7dcf864?stage=9&type=ite\n",
            "https://letour.fr/en/block/history/10806/196e36cfe7aff4b5fc2d1055f7dcf864?stage=10&type=ite\n",
            "https://letour.fr/en/block/history/10806/196e36cfe7aff4b5fc2d1055f7dcf864?stage=11&type=ite\n",
            "https://letour.fr/en/block/history/10806/196e36cfe7aff4b5fc2d1055f7dcf864?stage=12&type=ite\n",
            "https://letour.fr/en/block/history/10806/196e36cfe7aff4b5fc2d1055f7dcf864?stage=13&type=ite\n",
            "https://letour.fr/en/block/history/10806/196e36cfe7aff4b5fc2d1055f7dcf864?stage=14&type=ite\n",
            "https://letour.fr/en/block/history/10806/196e36cfe7aff4b5fc2d1055f7dcf864?stage=15&type=ite\n",
            "https://letour.fr/en/block/history/10806/196e36cfe7aff4b5fc2d1055f7dcf864?stage=16&type=ite\n",
            "https://letour.fr/en/block/history/10806/196e36cfe7aff4b5fc2d1055f7dcf864?stage=17&type=ite\n",
            "https://letour.fr/en/block/history/10806/196e36cfe7aff4b5fc2d1055f7dcf864?stage=18&type=ite\n",
            "https://letour.fr/en/block/history/10806/196e36cfe7aff4b5fc2d1055f7dcf864?stage=19&type=ite\n",
            "https://letour.fr/en/block/history/10806/196e36cfe7aff4b5fc2d1055f7dcf864?stage=20&type=ite\n",
            "https://letour.fr/en/block/history/10806/196e36cfe7aff4b5fc2d1055f7dcf864?stage=21&type=ite\n",
            "https://letour.fr/en/block/history/10807/d538a7fbdfc0d657fbf064561840fbb1?stage=1&type=ite\n",
            "https://letour.fr/en/block/history/10807/d538a7fbdfc0d657fbf064561840fbb1?stage=2&type=ite\n",
            "https://letour.fr/en/block/history/10807/d538a7fbdfc0d657fbf064561840fbb1?stage=3&type=ite\n",
            "https://letour.fr/en/block/history/10807/d538a7fbdfc0d657fbf064561840fbb1?stage=4&type=ite\n",
            "https://letour.fr/en/block/history/10807/d538a7fbdfc0d657fbf064561840fbb1?stage=5&type=ite\n",
            "https://letour.fr/en/block/history/10807/d538a7fbdfc0d657fbf064561840fbb1?stage=6&type=ite\n",
            "https://letour.fr/en/block/history/10807/d538a7fbdfc0d657fbf064561840fbb1?stage=7&type=ite\n",
            "https://letour.fr/en/block/history/10807/d538a7fbdfc0d657fbf064561840fbb1?stage=8&type=ite\n",
            "https://letour.fr/en/block/history/10807/d538a7fbdfc0d657fbf064561840fbb1?stage=9&type=ite\n",
            "https://letour.fr/en/block/history/10807/d538a7fbdfc0d657fbf064561840fbb1?stage=10&type=ite\n",
            "https://letour.fr/en/block/history/10807/d538a7fbdfc0d657fbf064561840fbb1?stage=11&type=ite\n",
            "https://letour.fr/en/block/history/10807/d538a7fbdfc0d657fbf064561840fbb1?stage=12&type=ite\n",
            "https://letour.fr/en/block/history/10807/d538a7fbdfc0d657fbf064561840fbb1?stage=13&type=ite\n",
            "https://letour.fr/en/block/history/10807/d538a7fbdfc0d657fbf064561840fbb1?stage=14&type=ite\n",
            "https://letour.fr/en/block/history/10807/d538a7fbdfc0d657fbf064561840fbb1?stage=15&type=ite\n",
            "https://letour.fr/en/block/history/10807/d538a7fbdfc0d657fbf064561840fbb1?stage=16&type=ite\n",
            "https://letour.fr/en/block/history/10807/d538a7fbdfc0d657fbf064561840fbb1?stage=17&type=ite\n",
            "https://letour.fr/en/block/history/10807/d538a7fbdfc0d657fbf064561840fbb1?stage=18&type=ite\n",
            "https://letour.fr/en/block/history/10807/d538a7fbdfc0d657fbf064561840fbb1?stage=19&type=ite\n",
            "https://letour.fr/en/block/history/10807/d538a7fbdfc0d657fbf064561840fbb1?stage=20&type=ite\n",
            "https://letour.fr/en/block/history/10807/d538a7fbdfc0d657fbf064561840fbb1?stage=21&type=ite\n",
            "https://letour.fr/en/block/history/10808/3f166bedb535ee9bff2fb7ead0a7812c?stage=1&type=ite\n",
            "https://letour.fr/en/block/history/10808/3f166bedb535ee9bff2fb7ead0a7812c?stage=2&type=ite\n",
            "https://letour.fr/en/block/history/10808/3f166bedb535ee9bff2fb7ead0a7812c?stage=3&type=ite\n",
            "https://letour.fr/en/block/history/10808/3f166bedb535ee9bff2fb7ead0a7812c?stage=4&type=ite\n",
            "https://letour.fr/en/block/history/10808/3f166bedb535ee9bff2fb7ead0a7812c?stage=5&type=ite\n",
            "https://letour.fr/en/block/history/10808/3f166bedb535ee9bff2fb7ead0a7812c?stage=6&type=ite\n",
            "https://letour.fr/en/block/history/10808/3f166bedb535ee9bff2fb7ead0a7812c?stage=7&type=ite\n",
            "https://letour.fr/en/block/history/10808/3f166bedb535ee9bff2fb7ead0a7812c?stage=8&type=ite\n",
            "https://letour.fr/en/block/history/10808/3f166bedb535ee9bff2fb7ead0a7812c?stage=9&type=ite\n",
            "https://letour.fr/en/block/history/10808/3f166bedb535ee9bff2fb7ead0a7812c?stage=10&type=ite\n",
            "https://letour.fr/en/block/history/10808/3f166bedb535ee9bff2fb7ead0a7812c?stage=11&type=ite\n",
            "https://letour.fr/en/block/history/10808/3f166bedb535ee9bff2fb7ead0a7812c?stage=12&type=ite\n",
            "https://letour.fr/en/block/history/10808/3f166bedb535ee9bff2fb7ead0a7812c?stage=13&type=ite\n",
            "https://letour.fr/en/block/history/10808/3f166bedb535ee9bff2fb7ead0a7812c?stage=14&type=ite\n",
            "https://letour.fr/en/block/history/10808/3f166bedb535ee9bff2fb7ead0a7812c?stage=15&type=ite\n",
            "https://letour.fr/en/block/history/10808/3f166bedb535ee9bff2fb7ead0a7812c?stage=16&type=ite\n",
            "https://letour.fr/en/block/history/10808/3f166bedb535ee9bff2fb7ead0a7812c?stage=17&type=ite\n",
            "https://letour.fr/en/block/history/10808/3f166bedb535ee9bff2fb7ead0a7812c?stage=18&type=ite\n",
            "https://letour.fr/en/block/history/10808/3f166bedb535ee9bff2fb7ead0a7812c?stage=19&type=ite\n",
            "https://letour.fr/en/block/history/10808/3f166bedb535ee9bff2fb7ead0a7812c?stage=20&type=ite\n",
            "https://letour.fr/en/block/history/10808/3f166bedb535ee9bff2fb7ead0a7812c?stage=21&type=ite\n",
            "https://letour.fr/en/block/history/10809/7be3a459d846b4672915c576cb7ed6b9?stage=1&type=ite\n",
            "https://letour.fr/en/block/history/10809/7be3a459d846b4672915c576cb7ed6b9?stage=2&type=ite\n",
            "https://letour.fr/en/block/history/10809/7be3a459d846b4672915c576cb7ed6b9?stage=3&type=ite\n",
            "https://letour.fr/en/block/history/10809/7be3a459d846b4672915c576cb7ed6b9?stage=4&type=ite\n",
            "https://letour.fr/en/block/history/10809/7be3a459d846b4672915c576cb7ed6b9?stage=5&type=ite\n",
            "https://letour.fr/en/block/history/10809/7be3a459d846b4672915c576cb7ed6b9?stage=6&type=ite\n",
            "https://letour.fr/en/block/history/10809/7be3a459d846b4672915c576cb7ed6b9?stage=7&type=ite\n",
            "https://letour.fr/en/block/history/10809/7be3a459d846b4672915c576cb7ed6b9?stage=8&type=ite\n",
            "https://letour.fr/en/block/history/10809/7be3a459d846b4672915c576cb7ed6b9?stage=9&type=ite\n",
            "https://letour.fr/en/block/history/10809/7be3a459d846b4672915c576cb7ed6b9?stage=10&type=ite\n",
            "https://letour.fr/en/block/history/10809/7be3a459d846b4672915c576cb7ed6b9?stage=11&type=ite\n",
            "https://letour.fr/en/block/history/10809/7be3a459d846b4672915c576cb7ed6b9?stage=12&type=ite\n",
            "https://letour.fr/en/block/history/10809/7be3a459d846b4672915c576cb7ed6b9?stage=13&type=ite\n",
            "https://letour.fr/en/block/history/10809/7be3a459d846b4672915c576cb7ed6b9?stage=14&type=ite\n",
            "https://letour.fr/en/block/history/10809/7be3a459d846b4672915c576cb7ed6b9?stage=15&type=ite\n",
            "https://letour.fr/en/block/history/10809/7be3a459d846b4672915c576cb7ed6b9?stage=16&type=ite\n",
            "https://letour.fr/en/block/history/10809/7be3a459d846b4672915c576cb7ed6b9?stage=17&type=ite\n",
            "https://letour.fr/en/block/history/10809/7be3a459d846b4672915c576cb7ed6b9?stage=18&type=ite\n",
            "https://letour.fr/en/block/history/10809/7be3a459d846b4672915c576cb7ed6b9?stage=19&type=ite\n",
            "https://letour.fr/en/block/history/10809/7be3a459d846b4672915c576cb7ed6b9?stage=20&type=ite\n",
            "https://letour.fr/en/block/history/10809/7be3a459d846b4672915c576cb7ed6b9?stage=21&type=ite\n",
            "https://letour.fr/en/block/history/10810/7035a5dc53631209d3581f64a433b10d?stage=1&type=ite\n",
            "https://letour.fr/en/block/history/10810/7035a5dc53631209d3581f64a433b10d?stage=2&type=ite\n",
            "https://letour.fr/en/block/history/10810/7035a5dc53631209d3581f64a433b10d?stage=3&type=ite\n",
            "https://letour.fr/en/block/history/10810/7035a5dc53631209d3581f64a433b10d?stage=4&type=ite\n",
            "https://letour.fr/en/block/history/10810/7035a5dc53631209d3581f64a433b10d?stage=5&type=ite\n",
            "https://letour.fr/en/block/history/10810/7035a5dc53631209d3581f64a433b10d?stage=6&type=ite\n",
            "https://letour.fr/en/block/history/10810/7035a5dc53631209d3581f64a433b10d?stage=7&type=ite\n",
            "https://letour.fr/en/block/history/10810/7035a5dc53631209d3581f64a433b10d?stage=8&type=ite\n",
            "https://letour.fr/en/block/history/10810/7035a5dc53631209d3581f64a433b10d?stage=9&type=ite\n",
            "https://letour.fr/en/block/history/10810/7035a5dc53631209d3581f64a433b10d?stage=10&type=ite\n",
            "https://letour.fr/en/block/history/10810/7035a5dc53631209d3581f64a433b10d?stage=11&type=ite\n",
            "https://letour.fr/en/block/history/10810/7035a5dc53631209d3581f64a433b10d?stage=12&type=ite\n",
            "https://letour.fr/en/block/history/10810/7035a5dc53631209d3581f64a433b10d?stage=13&type=ite\n",
            "https://letour.fr/en/block/history/10810/7035a5dc53631209d3581f64a433b10d?stage=14&type=ite\n",
            "https://letour.fr/en/block/history/10810/7035a5dc53631209d3581f64a433b10d?stage=15&type=ite\n",
            "https://letour.fr/en/block/history/10810/7035a5dc53631209d3581f64a433b10d?stage=16&type=ite\n",
            "https://letour.fr/en/block/history/10810/7035a5dc53631209d3581f64a433b10d?stage=17&type=ite\n",
            "https://letour.fr/en/block/history/10810/7035a5dc53631209d3581f64a433b10d?stage=18&type=ite\n",
            "https://letour.fr/en/block/history/10810/7035a5dc53631209d3581f64a433b10d?stage=19&type=ite\n",
            "https://letour.fr/en/block/history/10810/7035a5dc53631209d3581f64a433b10d?stage=20&type=ite\n",
            "https://letour.fr/en/block/history/10810/7035a5dc53631209d3581f64a433b10d?stage=21&type=ite\n",
            "https://letour.fr/en/block/history/11818/f34c3404d95a697dcf77d4cd8e8278fa?stage=1&type=ite\n",
            "https://letour.fr/en/block/history/11818/f34c3404d95a697dcf77d4cd8e8278fa?stage=2&type=ite\n",
            "https://letour.fr/en/block/history/11818/f34c3404d95a697dcf77d4cd8e8278fa?stage=3&type=ite\n",
            "https://letour.fr/en/block/history/11818/f34c3404d95a697dcf77d4cd8e8278fa?stage=4&type=ite\n",
            "https://letour.fr/en/block/history/11818/f34c3404d95a697dcf77d4cd8e8278fa?stage=5&type=ite\n",
            "https://letour.fr/en/block/history/11818/f34c3404d95a697dcf77d4cd8e8278fa?stage=6&type=ite\n",
            "https://letour.fr/en/block/history/11818/f34c3404d95a697dcf77d4cd8e8278fa?stage=7&type=ite\n",
            "https://letour.fr/en/block/history/11818/f34c3404d95a697dcf77d4cd8e8278fa?stage=8&type=ite\n",
            "https://letour.fr/en/block/history/11818/f34c3404d95a697dcf77d4cd8e8278fa?stage=9&type=ite\n",
            "https://letour.fr/en/block/history/11818/f34c3404d95a697dcf77d4cd8e8278fa?stage=10&type=ite\n",
            "https://letour.fr/en/block/history/11818/f34c3404d95a697dcf77d4cd8e8278fa?stage=11&type=ite\n",
            "https://letour.fr/en/block/history/11818/f34c3404d95a697dcf77d4cd8e8278fa?stage=12&type=ite\n",
            "https://letour.fr/en/block/history/11818/f34c3404d95a697dcf77d4cd8e8278fa?stage=13&type=ite\n",
            "https://letour.fr/en/block/history/11818/f34c3404d95a697dcf77d4cd8e8278fa?stage=14&type=ite\n",
            "https://letour.fr/en/block/history/11818/f34c3404d95a697dcf77d4cd8e8278fa?stage=15&type=ite\n",
            "https://letour.fr/en/block/history/11818/f34c3404d95a697dcf77d4cd8e8278fa?stage=16&type=ite\n",
            "https://letour.fr/en/block/history/11818/f34c3404d95a697dcf77d4cd8e8278fa?stage=17&type=ite\n",
            "https://letour.fr/en/block/history/11818/f34c3404d95a697dcf77d4cd8e8278fa?stage=18&type=ite\n",
            "https://letour.fr/en/block/history/11818/f34c3404d95a697dcf77d4cd8e8278fa?stage=19&type=ite\n",
            "https://letour.fr/en/block/history/11818/f34c3404d95a697dcf77d4cd8e8278fa?stage=20&type=ite\n",
            "https://letour.fr/en/block/history/11818/f34c3404d95a697dcf77d4cd8e8278fa?stage=21&type=ite\n",
            "https://letour.fr/en/block/history/11819/96c0eb3fa403ebf222f28b6e45115c56?stage=1&type=ite\n",
            "https://letour.fr/en/block/history/11819/96c0eb3fa403ebf222f28b6e45115c56?stage=2&type=ite\n",
            "https://letour.fr/en/block/history/11819/96c0eb3fa403ebf222f28b6e45115c56?stage=3&type=ite\n",
            "https://letour.fr/en/block/history/11819/96c0eb3fa403ebf222f28b6e45115c56?stage=4&type=ite\n",
            "https://letour.fr/en/block/history/11819/96c0eb3fa403ebf222f28b6e45115c56?stage=5&type=ite\n",
            "https://letour.fr/en/block/history/11819/96c0eb3fa403ebf222f28b6e45115c56?stage=6&type=ite\n",
            "https://letour.fr/en/block/history/11819/96c0eb3fa403ebf222f28b6e45115c56?stage=7&type=ite\n",
            "https://letour.fr/en/block/history/11819/96c0eb3fa403ebf222f28b6e45115c56?stage=8&type=ite\n",
            "https://letour.fr/en/block/history/11819/96c0eb3fa403ebf222f28b6e45115c56?stage=9&type=ite\n",
            "https://letour.fr/en/block/history/11819/96c0eb3fa403ebf222f28b6e45115c56?stage=10&type=ite\n",
            "https://letour.fr/en/block/history/11819/96c0eb3fa403ebf222f28b6e45115c56?stage=11&type=ite\n",
            "https://letour.fr/en/block/history/11819/96c0eb3fa403ebf222f28b6e45115c56?stage=12&type=ite\n",
            "https://letour.fr/en/block/history/11819/96c0eb3fa403ebf222f28b6e45115c56?stage=13&type=ite\n",
            "https://letour.fr/en/block/history/11819/96c0eb3fa403ebf222f28b6e45115c56?stage=14&type=ite\n",
            "https://letour.fr/en/block/history/11819/96c0eb3fa403ebf222f28b6e45115c56?stage=15&type=ite\n",
            "https://letour.fr/en/block/history/11819/96c0eb3fa403ebf222f28b6e45115c56?stage=16&type=ite\n",
            "https://letour.fr/en/block/history/11819/96c0eb3fa403ebf222f28b6e45115c56?stage=17&type=ite\n",
            "https://letour.fr/en/block/history/11819/96c0eb3fa403ebf222f28b6e45115c56?stage=18&type=ite\n",
            "https://letour.fr/en/block/history/11819/96c0eb3fa403ebf222f28b6e45115c56?stage=19&type=ite\n",
            "https://letour.fr/en/block/history/11819/96c0eb3fa403ebf222f28b6e45115c56?stage=20&type=ite\n",
            "https://letour.fr/en/block/history/11819/96c0eb3fa403ebf222f28b6e45115c56?stage=21&type=ite\n",
            "https://letour.fr/en/block/history/11820/17fa8e795e69e9f326ea26cf9912e571?stage=1&type=ite\n",
            "https://letour.fr/en/block/history/11820/17fa8e795e69e9f326ea26cf9912e571?stage=2&type=ite\n",
            "https://letour.fr/en/block/history/11820/17fa8e795e69e9f326ea26cf9912e571?stage=3&type=ite\n",
            "https://letour.fr/en/block/history/11820/17fa8e795e69e9f326ea26cf9912e571?stage=4&type=ite\n",
            "https://letour.fr/en/block/history/11820/17fa8e795e69e9f326ea26cf9912e571?stage=5&type=ite\n",
            "https://letour.fr/en/block/history/11820/17fa8e795e69e9f326ea26cf9912e571?stage=6&type=ite\n",
            "https://letour.fr/en/block/history/11820/17fa8e795e69e9f326ea26cf9912e571?stage=7&type=ite\n",
            "https://letour.fr/en/block/history/11820/17fa8e795e69e9f326ea26cf9912e571?stage=8&type=ite\n",
            "https://letour.fr/en/block/history/11820/17fa8e795e69e9f326ea26cf9912e571?stage=9&type=ite\n",
            "https://letour.fr/en/block/history/11820/17fa8e795e69e9f326ea26cf9912e571?stage=10&type=ite\n",
            "https://letour.fr/en/block/history/11820/17fa8e795e69e9f326ea26cf9912e571?stage=11&type=ite\n",
            "https://letour.fr/en/block/history/11820/17fa8e795e69e9f326ea26cf9912e571?stage=12&type=ite\n",
            "https://letour.fr/en/block/history/11820/17fa8e795e69e9f326ea26cf9912e571?stage=13&type=ite\n",
            "https://letour.fr/en/block/history/11820/17fa8e795e69e9f326ea26cf9912e571?stage=14&type=ite\n",
            "https://letour.fr/en/block/history/11820/17fa8e795e69e9f326ea26cf9912e571?stage=15&type=ite\n",
            "https://letour.fr/en/block/history/11820/17fa8e795e69e9f326ea26cf9912e571?stage=16&type=ite\n",
            "https://letour.fr/en/block/history/11820/17fa8e795e69e9f326ea26cf9912e571?stage=17&type=ite\n",
            "https://letour.fr/en/block/history/11820/17fa8e795e69e9f326ea26cf9912e571?stage=18&type=ite\n",
            "https://letour.fr/en/block/history/11820/17fa8e795e69e9f326ea26cf9912e571?stage=19&type=ite\n",
            "https://letour.fr/en/block/history/11820/17fa8e795e69e9f326ea26cf9912e571?stage=20&type=ite\n",
            "https://letour.fr/en/block/history/11820/17fa8e795e69e9f326ea26cf9912e571?stage=21&type=ite\n",
            "https://letour.fr/en/block/history/11821/a3fe7d350ef546e3c27ae83a84fa3a0b?stage=1&type=ite\n",
            "https://letour.fr/en/block/history/11821/a3fe7d350ef546e3c27ae83a84fa3a0b?stage=2&type=ite\n",
            "https://letour.fr/en/block/history/11821/a3fe7d350ef546e3c27ae83a84fa3a0b?stage=3&type=ite\n",
            "https://letour.fr/en/block/history/11821/a3fe7d350ef546e3c27ae83a84fa3a0b?stage=4&type=ite\n",
            "https://letour.fr/en/block/history/11821/a3fe7d350ef546e3c27ae83a84fa3a0b?stage=5&type=ite\n",
            "https://letour.fr/en/block/history/11821/a3fe7d350ef546e3c27ae83a84fa3a0b?stage=6&type=ite\n",
            "https://letour.fr/en/block/history/11821/a3fe7d350ef546e3c27ae83a84fa3a0b?stage=7&type=ite\n",
            "https://letour.fr/en/block/history/11821/a3fe7d350ef546e3c27ae83a84fa3a0b?stage=8&type=ite\n",
            "https://letour.fr/en/block/history/11821/a3fe7d350ef546e3c27ae83a84fa3a0b?stage=9&type=ite\n",
            "https://letour.fr/en/block/history/11821/a3fe7d350ef546e3c27ae83a84fa3a0b?stage=10&type=ite\n",
            "https://letour.fr/en/block/history/11821/a3fe7d350ef546e3c27ae83a84fa3a0b?stage=11&type=ite\n",
            "https://letour.fr/en/block/history/11821/a3fe7d350ef546e3c27ae83a84fa3a0b?stage=12&type=ite\n",
            "https://letour.fr/en/block/history/11821/a3fe7d350ef546e3c27ae83a84fa3a0b?stage=13&type=ite\n",
            "https://letour.fr/en/block/history/11821/a3fe7d350ef546e3c27ae83a84fa3a0b?stage=14&type=ite\n",
            "https://letour.fr/en/block/history/11821/a3fe7d350ef546e3c27ae83a84fa3a0b?stage=15&type=ite\n",
            "https://letour.fr/en/block/history/11821/a3fe7d350ef546e3c27ae83a84fa3a0b?stage=16&type=ite\n",
            "https://letour.fr/en/block/history/11821/a3fe7d350ef546e3c27ae83a84fa3a0b?stage=17&type=ite\n",
            "https://letour.fr/en/block/history/11821/a3fe7d350ef546e3c27ae83a84fa3a0b?stage=18&type=ite\n",
            "https://letour.fr/en/block/history/11821/a3fe7d350ef546e3c27ae83a84fa3a0b?stage=19&type=ite\n",
            "https://letour.fr/en/block/history/11821/a3fe7d350ef546e3c27ae83a84fa3a0b?stage=20&type=ite\n",
            "https://letour.fr/en/block/history/11821/a3fe7d350ef546e3c27ae83a84fa3a0b?stage=21&type=ite\n",
            "https://letour.fr/en/block/history/11822/ca646e1b4b99d7ee973c457c87392395?stage=1&type=ite\n",
            "https://letour.fr/en/block/history/11822/ca646e1b4b99d7ee973c457c87392395?stage=2&type=ite\n",
            "https://letour.fr/en/block/history/11822/ca646e1b4b99d7ee973c457c87392395?stage=3&type=ite\n",
            "https://letour.fr/en/block/history/11822/ca646e1b4b99d7ee973c457c87392395?stage=4&type=ite\n",
            "https://letour.fr/en/block/history/11822/ca646e1b4b99d7ee973c457c87392395?stage=5&type=ite\n",
            "https://letour.fr/en/block/history/11822/ca646e1b4b99d7ee973c457c87392395?stage=6&type=ite\n",
            "https://letour.fr/en/block/history/11822/ca646e1b4b99d7ee973c457c87392395?stage=7&type=ite\n",
            "https://letour.fr/en/block/history/11822/ca646e1b4b99d7ee973c457c87392395?stage=8&type=ite\n",
            "https://letour.fr/en/block/history/11822/ca646e1b4b99d7ee973c457c87392395?stage=9&type=ite\n",
            "https://letour.fr/en/block/history/11822/ca646e1b4b99d7ee973c457c87392395?stage=10&type=ite\n",
            "https://letour.fr/en/block/history/11822/ca646e1b4b99d7ee973c457c87392395?stage=11&type=ite\n",
            "https://letour.fr/en/block/history/11822/ca646e1b4b99d7ee973c457c87392395?stage=12&type=ite\n",
            "https://letour.fr/en/block/history/11822/ca646e1b4b99d7ee973c457c87392395?stage=13&type=ite\n",
            "https://letour.fr/en/block/history/11822/ca646e1b4b99d7ee973c457c87392395?stage=14&type=ite\n",
            "https://letour.fr/en/block/history/11822/ca646e1b4b99d7ee973c457c87392395?stage=15&type=ite\n",
            "https://letour.fr/en/block/history/11822/ca646e1b4b99d7ee973c457c87392395?stage=16&type=ite\n",
            "https://letour.fr/en/block/history/11822/ca646e1b4b99d7ee973c457c87392395?stage=17&type=ite\n",
            "https://letour.fr/en/block/history/11822/ca646e1b4b99d7ee973c457c87392395?stage=18&type=ite\n",
            "https://letour.fr/en/block/history/11822/ca646e1b4b99d7ee973c457c87392395?stage=19&type=ite\n",
            "https://letour.fr/en/block/history/11822/ca646e1b4b99d7ee973c457c87392395?stage=20&type=ite\n",
            "https://letour.fr/en/block/history/11822/ca646e1b4b99d7ee973c457c87392395?stage=21&type=ite\n"
          ]
        }
      ]
    },
    {
      "cell_type": "markdown",
      "source": [
        "####6. Membuat dataframe dari tabel response\n",
        "(sekaligus menambahkan kolom tahun dan stage,\n",
        "serta membuat race id eg:202201 (tahun 2022 stage 1))"
      ],
      "metadata": {
        "id": "IRPU-wlBTC5i"
      }
    },
    {
      "cell_type": "code",
      "source": [
        "import pandas as pd"
      ],
      "metadata": {
        "id": "lc-olyFsk0GA"
      },
      "execution_count": 12,
      "outputs": []
    },
    {
      "cell_type": "code",
      "source": [
        "# testing sebelum memulai otomasi untuk meninjau kode dan hasil\n",
        "html_table = pd.read_html('https://letour.fr/en/block/history/11822/ca646e1b4b99d7ee973c457c87392395?stage=21&type=ite')\n",
        "df = pd.DataFrame(html_table[0])\n",
        "df['Rider No.'] = df['Rider No.'].apply(\"{0:0=3d}\".format, axis=1)\n",
        "df['Year'] = 2022\n",
        "df['Stage'] = 1\n",
        "df['Race_Id'] = df['Year'].astype(str) + df['Stage'].astype(str)\n",
        "df['Rider_Id'] = df['Year'].astype(str) + df['Rider No.']\n",
        "df.tail()"
      ],
      "metadata": {
        "colab": {
          "base_uri": "https://localhost:8080/",
          "height": 354
        },
        "id": "9HpKYDXZ7T4j",
        "outputId": "d87d32eb-3998-4543-b50c-6fbfdcab2124"
      },
      "execution_count": 13,
      "outputs": [
        {
          "output_type": "execute_result",
          "data": {
            "text/plain": [
              "     Rank                        Rider Rider No.                     Team  \\\n",
              "130   131              FREDERIK FRISON       162             LOTTO SOUDAL   \n",
              "131   132  REINARDT JANSE VAN RENSBURG       164             LOTTO SOUDAL   \n",
              "132   133       AMUND GRÃNDAHL JANSEN       205  TEAM BIKEEXCHANGE-JAYCO   \n",
              "133   134        ALBERT TORRES BARCELO       067            MOVISTAR TEAM   \n",
              "134   135                   CALEB EWAN       161             LOTTO SOUDAL   \n",
              "\n",
              "            Times             Gap    B         P  Year  Stage Race_Id Rider_Id  \n",
              "130  85h 03' 39''  + 05h 30' 19''  NaN       NaN  2022      1   20221  2022162  \n",
              "131  85h 04' 45''  + 05h 31' 25''  NaN       NaN  2022      1   20221  2022164  \n",
              "132  85h 04' 47''  + 05h 31' 27''  NaN       NaN  2022      1   20221  2022205  \n",
              "133  85h 09' 53''  + 05h 36' 33''  NaN       NaN  2022      1   20221  2022067  \n",
              "134  85h 14' 02''  + 05h 40' 42''  NaN  01' 00''  2022      1   20221  2022161  "
            ],
            "text/html": [
              "\n",
              "\n",
              "  <div id=\"df-0694a8df-ecf3-420d-b90e-75e6de2eaf78\">\n",
              "    <div class=\"colab-df-container\">\n",
              "      <div>\n",
              "<style scoped>\n",
              "    .dataframe tbody tr th:only-of-type {\n",
              "        vertical-align: middle;\n",
              "    }\n",
              "\n",
              "    .dataframe tbody tr th {\n",
              "        vertical-align: top;\n",
              "    }\n",
              "\n",
              "    .dataframe thead th {\n",
              "        text-align: right;\n",
              "    }\n",
              "</style>\n",
              "<table border=\"1\" class=\"dataframe\">\n",
              "  <thead>\n",
              "    <tr style=\"text-align: right;\">\n",
              "      <th></th>\n",
              "      <th>Rank</th>\n",
              "      <th>Rider</th>\n",
              "      <th>Rider No.</th>\n",
              "      <th>Team</th>\n",
              "      <th>Times</th>\n",
              "      <th>Gap</th>\n",
              "      <th>B</th>\n",
              "      <th>P</th>\n",
              "      <th>Year</th>\n",
              "      <th>Stage</th>\n",
              "      <th>Race_Id</th>\n",
              "      <th>Rider_Id</th>\n",
              "    </tr>\n",
              "  </thead>\n",
              "  <tbody>\n",
              "    <tr>\n",
              "      <th>130</th>\n",
              "      <td>131</td>\n",
              "      <td>FREDERIK FRISON</td>\n",
              "      <td>162</td>\n",
              "      <td>LOTTO SOUDAL</td>\n",
              "      <td>85h 03' 39''</td>\n",
              "      <td>+ 05h 30' 19''</td>\n",
              "      <td>NaN</td>\n",
              "      <td>NaN</td>\n",
              "      <td>2022</td>\n",
              "      <td>1</td>\n",
              "      <td>20221</td>\n",
              "      <td>2022162</td>\n",
              "    </tr>\n",
              "    <tr>\n",
              "      <th>131</th>\n",
              "      <td>132</td>\n",
              "      <td>REINARDT JANSE VAN RENSBURG</td>\n",
              "      <td>164</td>\n",
              "      <td>LOTTO SOUDAL</td>\n",
              "      <td>85h 04' 45''</td>\n",
              "      <td>+ 05h 31' 25''</td>\n",
              "      <td>NaN</td>\n",
              "      <td>NaN</td>\n",
              "      <td>2022</td>\n",
              "      <td>1</td>\n",
              "      <td>20221</td>\n",
              "      <td>2022164</td>\n",
              "    </tr>\n",
              "    <tr>\n",
              "      <th>132</th>\n",
              "      <td>133</td>\n",
              "      <td>AMUND GRÃNDAHL JANSEN</td>\n",
              "      <td>205</td>\n",
              "      <td>TEAM BIKEEXCHANGE-JAYCO</td>\n",
              "      <td>85h 04' 47''</td>\n",
              "      <td>+ 05h 31' 27''</td>\n",
              "      <td>NaN</td>\n",
              "      <td>NaN</td>\n",
              "      <td>2022</td>\n",
              "      <td>1</td>\n",
              "      <td>20221</td>\n",
              "      <td>2022205</td>\n",
              "    </tr>\n",
              "    <tr>\n",
              "      <th>133</th>\n",
              "      <td>134</td>\n",
              "      <td>ALBERT TORRES BARCELO</td>\n",
              "      <td>067</td>\n",
              "      <td>MOVISTAR TEAM</td>\n",
              "      <td>85h 09' 53''</td>\n",
              "      <td>+ 05h 36' 33''</td>\n",
              "      <td>NaN</td>\n",
              "      <td>NaN</td>\n",
              "      <td>2022</td>\n",
              "      <td>1</td>\n",
              "      <td>20221</td>\n",
              "      <td>2022067</td>\n",
              "    </tr>\n",
              "    <tr>\n",
              "      <th>134</th>\n",
              "      <td>135</td>\n",
              "      <td>CALEB EWAN</td>\n",
              "      <td>161</td>\n",
              "      <td>LOTTO SOUDAL</td>\n",
              "      <td>85h 14' 02''</td>\n",
              "      <td>+ 05h 40' 42''</td>\n",
              "      <td>NaN</td>\n",
              "      <td>01' 00''</td>\n",
              "      <td>2022</td>\n",
              "      <td>1</td>\n",
              "      <td>20221</td>\n",
              "      <td>2022161</td>\n",
              "    </tr>\n",
              "  </tbody>\n",
              "</table>\n",
              "</div>\n",
              "      <button class=\"colab-df-convert\" onclick=\"convertToInteractive('df-0694a8df-ecf3-420d-b90e-75e6de2eaf78')\"\n",
              "              title=\"Convert this dataframe to an interactive table.\"\n",
              "              style=\"display:none;\">\n",
              "\n",
              "  <svg xmlns=\"http://www.w3.org/2000/svg\" height=\"24px\"viewBox=\"0 0 24 24\"\n",
              "       width=\"24px\">\n",
              "    <path d=\"M0 0h24v24H0V0z\" fill=\"none\"/>\n",
              "    <path d=\"M18.56 5.44l.94 2.06.94-2.06 2.06-.94-2.06-.94-.94-2.06-.94 2.06-2.06.94zm-11 1L8.5 8.5l.94-2.06 2.06-.94-2.06-.94L8.5 2.5l-.94 2.06-2.06.94zm10 10l.94 2.06.94-2.06 2.06-.94-2.06-.94-.94-2.06-.94 2.06-2.06.94z\"/><path d=\"M17.41 7.96l-1.37-1.37c-.4-.4-.92-.59-1.43-.59-.52 0-1.04.2-1.43.59L10.3 9.45l-7.72 7.72c-.78.78-.78 2.05 0 2.83L4 21.41c.39.39.9.59 1.41.59.51 0 1.02-.2 1.41-.59l7.78-7.78 2.81-2.81c.8-.78.8-2.07 0-2.86zM5.41 20L4 18.59l7.72-7.72 1.47 1.35L5.41 20z\"/>\n",
              "  </svg>\n",
              "      </button>\n",
              "\n",
              "\n",
              "\n",
              "    <div id=\"df-5bd48227-2058-4e14-82d6-b1d2037b1515\">\n",
              "      <button class=\"colab-df-quickchart\" onclick=\"quickchart('df-5bd48227-2058-4e14-82d6-b1d2037b1515')\"\n",
              "              title=\"Suggest charts.\"\n",
              "              style=\"display:none;\">\n",
              "\n",
              "<svg xmlns=\"http://www.w3.org/2000/svg\" height=\"24px\"viewBox=\"0 0 24 24\"\n",
              "     width=\"24px\">\n",
              "    <g>\n",
              "        <path d=\"M19 3H5c-1.1 0-2 .9-2 2v14c0 1.1.9 2 2 2h14c1.1 0 2-.9 2-2V5c0-1.1-.9-2-2-2zM9 17H7v-7h2v7zm4 0h-2V7h2v10zm4 0h-2v-4h2v4z\"/>\n",
              "    </g>\n",
              "</svg>\n",
              "      </button>\n",
              "    </div>\n",
              "\n",
              "<style>\n",
              "  .colab-df-quickchart {\n",
              "    background-color: #E8F0FE;\n",
              "    border: none;\n",
              "    border-radius: 50%;\n",
              "    cursor: pointer;\n",
              "    display: none;\n",
              "    fill: #1967D2;\n",
              "    height: 32px;\n",
              "    padding: 0 0 0 0;\n",
              "    width: 32px;\n",
              "  }\n",
              "\n",
              "  .colab-df-quickchart:hover {\n",
              "    background-color: #E2EBFA;\n",
              "    box-shadow: 0px 1px 2px rgba(60, 64, 67, 0.3), 0px 1px 3px 1px rgba(60, 64, 67, 0.15);\n",
              "    fill: #174EA6;\n",
              "  }\n",
              "\n",
              "  [theme=dark] .colab-df-quickchart {\n",
              "    background-color: #3B4455;\n",
              "    fill: #D2E3FC;\n",
              "  }\n",
              "\n",
              "  [theme=dark] .colab-df-quickchart:hover {\n",
              "    background-color: #434B5C;\n",
              "    box-shadow: 0px 1px 3px 1px rgba(0, 0, 0, 0.15);\n",
              "    filter: drop-shadow(0px 1px 2px rgba(0, 0, 0, 0.3));\n",
              "    fill: #FFFFFF;\n",
              "  }\n",
              "</style>\n",
              "\n",
              "    <script>\n",
              "      async function quickchart(key) {\n",
              "        const containerElement = document.querySelector('#' + key);\n",
              "        const charts = await google.colab.kernel.invokeFunction(\n",
              "            'suggestCharts', [key], {});\n",
              "      }\n",
              "    </script>\n",
              "\n",
              "      <script>\n",
              "\n",
              "function displayQuickchartButton(domScope) {\n",
              "  let quickchartButtonEl =\n",
              "    domScope.querySelector('#df-5bd48227-2058-4e14-82d6-b1d2037b1515 button.colab-df-quickchart');\n",
              "  quickchartButtonEl.style.display =\n",
              "    google.colab.kernel.accessAllowed ? 'block' : 'none';\n",
              "}\n",
              "\n",
              "        displayQuickchartButton(document);\n",
              "      </script>\n",
              "      <style>\n",
              "    .colab-df-container {\n",
              "      display:flex;\n",
              "      flex-wrap:wrap;\n",
              "      gap: 12px;\n",
              "    }\n",
              "\n",
              "    .colab-df-convert {\n",
              "      background-color: #E8F0FE;\n",
              "      border: none;\n",
              "      border-radius: 50%;\n",
              "      cursor: pointer;\n",
              "      display: none;\n",
              "      fill: #1967D2;\n",
              "      height: 32px;\n",
              "      padding: 0 0 0 0;\n",
              "      width: 32px;\n",
              "    }\n",
              "\n",
              "    .colab-df-convert:hover {\n",
              "      background-color: #E2EBFA;\n",
              "      box-shadow: 0px 1px 2px rgba(60, 64, 67, 0.3), 0px 1px 3px 1px rgba(60, 64, 67, 0.15);\n",
              "      fill: #174EA6;\n",
              "    }\n",
              "\n",
              "    [theme=dark] .colab-df-convert {\n",
              "      background-color: #3B4455;\n",
              "      fill: #D2E3FC;\n",
              "    }\n",
              "\n",
              "    [theme=dark] .colab-df-convert:hover {\n",
              "      background-color: #434B5C;\n",
              "      box-shadow: 0px 1px 3px 1px rgba(0, 0, 0, 0.15);\n",
              "      filter: drop-shadow(0px 1px 2px rgba(0, 0, 0, 0.3));\n",
              "      fill: #FFFFFF;\n",
              "    }\n",
              "  </style>\n",
              "\n",
              "      <script>\n",
              "        const buttonEl =\n",
              "          document.querySelector('#df-0694a8df-ecf3-420d-b90e-75e6de2eaf78 button.colab-df-convert');\n",
              "        buttonEl.style.display =\n",
              "          google.colab.kernel.accessAllowed ? 'block' : 'none';\n",
              "\n",
              "        async function convertToInteractive(key) {\n",
              "          const element = document.querySelector('#df-0694a8df-ecf3-420d-b90e-75e6de2eaf78');\n",
              "          const dataTable =\n",
              "            await google.colab.kernel.invokeFunction('convertToInteractive',\n",
              "                                                     [key], {});\n",
              "          if (!dataTable) return;\n",
              "\n",
              "          const docLinkHtml = 'Like what you see? Visit the ' +\n",
              "            '<a target=\"_blank\" href=https://colab.research.google.com/notebooks/data_table.ipynb>data table notebook</a>'\n",
              "            + ' to learn more about interactive tables.';\n",
              "          element.innerHTML = '';\n",
              "          dataTable['output_type'] = 'display_data';\n",
              "          await google.colab.output.renderOutput(dataTable, element);\n",
              "          const docLink = document.createElement('div');\n",
              "          docLink.innerHTML = docLinkHtml;\n",
              "          element.appendChild(docLink);\n",
              "        }\n",
              "      </script>\n",
              "    </div>\n",
              "  </div>\n"
            ]
          },
          "metadata": {},
          "execution_count": 13
        }
      ]
    },
    {
      "cell_type": "markdown",
      "source": [
        "setelah kode berhasil dijalankan dan hasilnya sudah sesuai, selanjutnyalangkah  adalah membuat dataframe dengan teknik otomasi sehingga dapat terbentuk sebuah dataframe yang mencakup semua stage dari tahu 2010 sd 2022 ditambah dengan kolom tambahan (year, stage, race_id) untuk membedakan data dari masing-masing tahun."
      ],
      "metadata": {
        "id": "4zVD6QncQio0"
      }
    },
    {
      "cell_type": "code",
      "source": [
        "# membuat df kosong untuk menampung hasil otomasi\n",
        "df = pd.DataFrame()\n",
        "\n",
        "# membuat iterasi dengan memodifikasi kode pada langkah ke-5 agar tidak hanya menampilkan url tetapi juga membuat request\n",
        "for year in years:\n",
        "  for stage in stage_list:\n",
        "    url = f'https://letour.fr{path_dict[year]}?stage={stage}&type={race_type}'\n",
        "    html_table = pd.read_html(url)\n",
        "    df_to_append = pd.DataFrame(html_table[0])\n",
        "    df_to_append['Rider No.'] = df_to_append['Rider No.'].apply(\"{0:0=3d}\".format, axis=1)\n",
        "    df_to_append['Year'] = str(year)\n",
        "    df_to_append['Stage'] = \"{0:0=2d}\".format(stage)\n",
        "    df_to_append['Race_Id'] = df_to_append['Year'] + df_to_append['Stage']\n",
        "    df_to_append['Rider_Id'] = df_to_append['Year'] + df_to_append['Rider No.']\n",
        "    df = pd.concat([df, df_to_append], ignore_index=True)\n"
      ],
      "metadata": {
        "id": "469WrXC7Hprs"
      },
      "execution_count": 14,
      "outputs": []
    },
    {
      "cell_type": "markdown",
      "source": [
        "####7. Menyimpan file ke csv"
      ],
      "metadata": {
        "id": "XsjHsjeSTHcf"
      }
    },
    {
      "cell_type": "code",
      "source": [
        "#preview\n",
        "df.head()"
      ],
      "metadata": {
        "colab": {
          "base_uri": "https://localhost:8080/",
          "height": 250
        },
        "id": "OQEV2eRgNuUG",
        "outputId": "fce6c3f2-57ff-4453-8d80-05b6a58ebfaf"
      },
      "execution_count": 15,
      "outputs": [
        {
          "output_type": "execute_result",
          "data": {
            "text/plain": [
              "   Rank                  Rider Rider No.                  Team         Times  \\\n",
              "0     1           ANDY SCHLECK       011        TEAM SAXO BANK  91h 59' 27''   \n",
              "1     2         SAMUEL SANCHEZ       181   EUSKALTEL - EUSKADI  92h 02' 28''   \n",
              "2     3  JURGEN VAN DEN BROECK       101  OMEGA PHARMA - LOTTO  92h 05' 42''   \n",
              "3     5          ROBERT GESINK       195              RABOBANK  92h 08' 19''   \n",
              "4     6         RYDER HESJEDAL       054  GARMIN - TRANSITIONS  92h 09' 03''   \n",
              "\n",
              "              Gap    B    P  Year Stage Race_Id Rider_Id  \n",
              "0               -  NaN  NaN  2010    01  201001  2010011  \n",
              "1  + 00h 03' 01''  NaN  NaN  2010    01  201001  2010181  \n",
              "2  + 00h 06' 15''  NaN  NaN  2010    01  201001  2010101  \n",
              "3  + 00h 08' 52''  NaN  NaN  2010    01  201001  2010195  \n",
              "4  + 00h 09' 36''  NaN  NaN  2010    01  201001  2010054  "
            ],
            "text/html": [
              "\n",
              "\n",
              "  <div id=\"df-4d6aaa5b-0173-4779-9cce-c51af6c115a8\">\n",
              "    <div class=\"colab-df-container\">\n",
              "      <div>\n",
              "<style scoped>\n",
              "    .dataframe tbody tr th:only-of-type {\n",
              "        vertical-align: middle;\n",
              "    }\n",
              "\n",
              "    .dataframe tbody tr th {\n",
              "        vertical-align: top;\n",
              "    }\n",
              "\n",
              "    .dataframe thead th {\n",
              "        text-align: right;\n",
              "    }\n",
              "</style>\n",
              "<table border=\"1\" class=\"dataframe\">\n",
              "  <thead>\n",
              "    <tr style=\"text-align: right;\">\n",
              "      <th></th>\n",
              "      <th>Rank</th>\n",
              "      <th>Rider</th>\n",
              "      <th>Rider No.</th>\n",
              "      <th>Team</th>\n",
              "      <th>Times</th>\n",
              "      <th>Gap</th>\n",
              "      <th>B</th>\n",
              "      <th>P</th>\n",
              "      <th>Year</th>\n",
              "      <th>Stage</th>\n",
              "      <th>Race_Id</th>\n",
              "      <th>Rider_Id</th>\n",
              "    </tr>\n",
              "  </thead>\n",
              "  <tbody>\n",
              "    <tr>\n",
              "      <th>0</th>\n",
              "      <td>1</td>\n",
              "      <td>ANDY SCHLECK</td>\n",
              "      <td>011</td>\n",
              "      <td>TEAM SAXO BANK</td>\n",
              "      <td>91h 59' 27''</td>\n",
              "      <td>-</td>\n",
              "      <td>NaN</td>\n",
              "      <td>NaN</td>\n",
              "      <td>2010</td>\n",
              "      <td>01</td>\n",
              "      <td>201001</td>\n",
              "      <td>2010011</td>\n",
              "    </tr>\n",
              "    <tr>\n",
              "      <th>1</th>\n",
              "      <td>2</td>\n",
              "      <td>SAMUEL SANCHEZ</td>\n",
              "      <td>181</td>\n",
              "      <td>EUSKALTEL - EUSKADI</td>\n",
              "      <td>92h 02' 28''</td>\n",
              "      <td>+ 00h 03' 01''</td>\n",
              "      <td>NaN</td>\n",
              "      <td>NaN</td>\n",
              "      <td>2010</td>\n",
              "      <td>01</td>\n",
              "      <td>201001</td>\n",
              "      <td>2010181</td>\n",
              "    </tr>\n",
              "    <tr>\n",
              "      <th>2</th>\n",
              "      <td>3</td>\n",
              "      <td>JURGEN VAN DEN BROECK</td>\n",
              "      <td>101</td>\n",
              "      <td>OMEGA PHARMA - LOTTO</td>\n",
              "      <td>92h 05' 42''</td>\n",
              "      <td>+ 00h 06' 15''</td>\n",
              "      <td>NaN</td>\n",
              "      <td>NaN</td>\n",
              "      <td>2010</td>\n",
              "      <td>01</td>\n",
              "      <td>201001</td>\n",
              "      <td>2010101</td>\n",
              "    </tr>\n",
              "    <tr>\n",
              "      <th>3</th>\n",
              "      <td>5</td>\n",
              "      <td>ROBERT GESINK</td>\n",
              "      <td>195</td>\n",
              "      <td>RABOBANK</td>\n",
              "      <td>92h 08' 19''</td>\n",
              "      <td>+ 00h 08' 52''</td>\n",
              "      <td>NaN</td>\n",
              "      <td>NaN</td>\n",
              "      <td>2010</td>\n",
              "      <td>01</td>\n",
              "      <td>201001</td>\n",
              "      <td>2010195</td>\n",
              "    </tr>\n",
              "    <tr>\n",
              "      <th>4</th>\n",
              "      <td>6</td>\n",
              "      <td>RYDER HESJEDAL</td>\n",
              "      <td>054</td>\n",
              "      <td>GARMIN - TRANSITIONS</td>\n",
              "      <td>92h 09' 03''</td>\n",
              "      <td>+ 00h 09' 36''</td>\n",
              "      <td>NaN</td>\n",
              "      <td>NaN</td>\n",
              "      <td>2010</td>\n",
              "      <td>01</td>\n",
              "      <td>201001</td>\n",
              "      <td>2010054</td>\n",
              "    </tr>\n",
              "  </tbody>\n",
              "</table>\n",
              "</div>\n",
              "      <button class=\"colab-df-convert\" onclick=\"convertToInteractive('df-4d6aaa5b-0173-4779-9cce-c51af6c115a8')\"\n",
              "              title=\"Convert this dataframe to an interactive table.\"\n",
              "              style=\"display:none;\">\n",
              "\n",
              "  <svg xmlns=\"http://www.w3.org/2000/svg\" height=\"24px\"viewBox=\"0 0 24 24\"\n",
              "       width=\"24px\">\n",
              "    <path d=\"M0 0h24v24H0V0z\" fill=\"none\"/>\n",
              "    <path d=\"M18.56 5.44l.94 2.06.94-2.06 2.06-.94-2.06-.94-.94-2.06-.94 2.06-2.06.94zm-11 1L8.5 8.5l.94-2.06 2.06-.94-2.06-.94L8.5 2.5l-.94 2.06-2.06.94zm10 10l.94 2.06.94-2.06 2.06-.94-2.06-.94-.94-2.06-.94 2.06-2.06.94z\"/><path d=\"M17.41 7.96l-1.37-1.37c-.4-.4-.92-.59-1.43-.59-.52 0-1.04.2-1.43.59L10.3 9.45l-7.72 7.72c-.78.78-.78 2.05 0 2.83L4 21.41c.39.39.9.59 1.41.59.51 0 1.02-.2 1.41-.59l7.78-7.78 2.81-2.81c.8-.78.8-2.07 0-2.86zM5.41 20L4 18.59l7.72-7.72 1.47 1.35L5.41 20z\"/>\n",
              "  </svg>\n",
              "      </button>\n",
              "\n",
              "\n",
              "\n",
              "    <div id=\"df-1d06b2c7-7741-4f4c-960f-9a2474ac531d\">\n",
              "      <button class=\"colab-df-quickchart\" onclick=\"quickchart('df-1d06b2c7-7741-4f4c-960f-9a2474ac531d')\"\n",
              "              title=\"Suggest charts.\"\n",
              "              style=\"display:none;\">\n",
              "\n",
              "<svg xmlns=\"http://www.w3.org/2000/svg\" height=\"24px\"viewBox=\"0 0 24 24\"\n",
              "     width=\"24px\">\n",
              "    <g>\n",
              "        <path d=\"M19 3H5c-1.1 0-2 .9-2 2v14c0 1.1.9 2 2 2h14c1.1 0 2-.9 2-2V5c0-1.1-.9-2-2-2zM9 17H7v-7h2v7zm4 0h-2V7h2v10zm4 0h-2v-4h2v4z\"/>\n",
              "    </g>\n",
              "</svg>\n",
              "      </button>\n",
              "    </div>\n",
              "\n",
              "<style>\n",
              "  .colab-df-quickchart {\n",
              "    background-color: #E8F0FE;\n",
              "    border: none;\n",
              "    border-radius: 50%;\n",
              "    cursor: pointer;\n",
              "    display: none;\n",
              "    fill: #1967D2;\n",
              "    height: 32px;\n",
              "    padding: 0 0 0 0;\n",
              "    width: 32px;\n",
              "  }\n",
              "\n",
              "  .colab-df-quickchart:hover {\n",
              "    background-color: #E2EBFA;\n",
              "    box-shadow: 0px 1px 2px rgba(60, 64, 67, 0.3), 0px 1px 3px 1px rgba(60, 64, 67, 0.15);\n",
              "    fill: #174EA6;\n",
              "  }\n",
              "\n",
              "  [theme=dark] .colab-df-quickchart {\n",
              "    background-color: #3B4455;\n",
              "    fill: #D2E3FC;\n",
              "  }\n",
              "\n",
              "  [theme=dark] .colab-df-quickchart:hover {\n",
              "    background-color: #434B5C;\n",
              "    box-shadow: 0px 1px 3px 1px rgba(0, 0, 0, 0.15);\n",
              "    filter: drop-shadow(0px 1px 2px rgba(0, 0, 0, 0.3));\n",
              "    fill: #FFFFFF;\n",
              "  }\n",
              "</style>\n",
              "\n",
              "    <script>\n",
              "      async function quickchart(key) {\n",
              "        const containerElement = document.querySelector('#' + key);\n",
              "        const charts = await google.colab.kernel.invokeFunction(\n",
              "            'suggestCharts', [key], {});\n",
              "      }\n",
              "    </script>\n",
              "\n",
              "      <script>\n",
              "\n",
              "function displayQuickchartButton(domScope) {\n",
              "  let quickchartButtonEl =\n",
              "    domScope.querySelector('#df-1d06b2c7-7741-4f4c-960f-9a2474ac531d button.colab-df-quickchart');\n",
              "  quickchartButtonEl.style.display =\n",
              "    google.colab.kernel.accessAllowed ? 'block' : 'none';\n",
              "}\n",
              "\n",
              "        displayQuickchartButton(document);\n",
              "      </script>\n",
              "      <style>\n",
              "    .colab-df-container {\n",
              "      display:flex;\n",
              "      flex-wrap:wrap;\n",
              "      gap: 12px;\n",
              "    }\n",
              "\n",
              "    .colab-df-convert {\n",
              "      background-color: #E8F0FE;\n",
              "      border: none;\n",
              "      border-radius: 50%;\n",
              "      cursor: pointer;\n",
              "      display: none;\n",
              "      fill: #1967D2;\n",
              "      height: 32px;\n",
              "      padding: 0 0 0 0;\n",
              "      width: 32px;\n",
              "    }\n",
              "\n",
              "    .colab-df-convert:hover {\n",
              "      background-color: #E2EBFA;\n",
              "      box-shadow: 0px 1px 2px rgba(60, 64, 67, 0.3), 0px 1px 3px 1px rgba(60, 64, 67, 0.15);\n",
              "      fill: #174EA6;\n",
              "    }\n",
              "\n",
              "    [theme=dark] .colab-df-convert {\n",
              "      background-color: #3B4455;\n",
              "      fill: #D2E3FC;\n",
              "    }\n",
              "\n",
              "    [theme=dark] .colab-df-convert:hover {\n",
              "      background-color: #434B5C;\n",
              "      box-shadow: 0px 1px 3px 1px rgba(0, 0, 0, 0.15);\n",
              "      filter: drop-shadow(0px 1px 2px rgba(0, 0, 0, 0.3));\n",
              "      fill: #FFFFFF;\n",
              "    }\n",
              "  </style>\n",
              "\n",
              "      <script>\n",
              "        const buttonEl =\n",
              "          document.querySelector('#df-4d6aaa5b-0173-4779-9cce-c51af6c115a8 button.colab-df-convert');\n",
              "        buttonEl.style.display =\n",
              "          google.colab.kernel.accessAllowed ? 'block' : 'none';\n",
              "\n",
              "        async function convertToInteractive(key) {\n",
              "          const element = document.querySelector('#df-4d6aaa5b-0173-4779-9cce-c51af6c115a8');\n",
              "          const dataTable =\n",
              "            await google.colab.kernel.invokeFunction('convertToInteractive',\n",
              "                                                     [key], {});\n",
              "          if (!dataTable) return;\n",
              "\n",
              "          const docLinkHtml = 'Like what you see? Visit the ' +\n",
              "            '<a target=\"_blank\" href=https://colab.research.google.com/notebooks/data_table.ipynb>data table notebook</a>'\n",
              "            + ' to learn more about interactive tables.';\n",
              "          element.innerHTML = '';\n",
              "          dataTable['output_type'] = 'display_data';\n",
              "          await google.colab.output.renderOutput(dataTable, element);\n",
              "          const docLink = document.createElement('div');\n",
              "          docLink.innerHTML = docLinkHtml;\n",
              "          element.appendChild(docLink);\n",
              "        }\n",
              "      </script>\n",
              "    </div>\n",
              "  </div>\n"
            ]
          },
          "metadata": {},
          "execution_count": 15
        }
      ]
    },
    {
      "cell_type": "code",
      "source": [
        "df.to_csv(\"TDF Individual Stage 2010-2022.csv\", index=False)"
      ],
      "metadata": {
        "id": "JjLL3hTJNuRj"
      },
      "execution_count": 16,
      "outputs": []
    },
    {
      "cell_type": "markdown",
      "source": [
        "Demikian proses scraping atau pengambilan data dari website ajang pada balap sepeda tour de france dari tahun 2010 sd 2022. Pengambilan data pada notebook ini dibatasi pada rangking individual per stage, sementara masih banyak data lain dari situs tersebut yang masih bisa dieksplorasi lebih lanjut. Notebook ini bisa digunakan untuk melakukan eksplorasi tersebut, tentunya dengan beberapa penyesuaian."
      ],
      "metadata": {
        "id": "ptz9Vi32BSXV"
      }
    },
    {
      "cell_type": "markdown",
      "source": [
        "# **Terima kasih**"
      ],
      "metadata": {
        "id": "MglOeJ_9A8Hm"
      }
    }
  ]
}