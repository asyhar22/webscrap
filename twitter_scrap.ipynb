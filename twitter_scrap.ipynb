{
  "nbformat": 4,
  "nbformat_minor": 0,
  "metadata": {
    "colab": {
      "provenance": [],
      "authorship_tag": "ABX9TyMRe5YfBsbVmuaErEvzllSn",
      "include_colab_link": true
    },
    "kernelspec": {
      "name": "python3",
      "display_name": "Python 3"
    },
    "language_info": {
      "name": "python"
    }
  },
  "cells": [
    {
      "cell_type": "markdown",
      "metadata": {
        "id": "view-in-github",
        "colab_type": "text"
      },
      "source": [
        "<a href=\"https://colab.research.google.com/github/asyhar22/webscrap/blob/main/twitter_scrap.ipynb\" target=\"_parent\"><img src=\"https://colab.research.google.com/assets/colab-badge.svg\" alt=\"Open In Colab\"/></a>"
      ]
    },
    {
      "cell_type": "markdown",
      "source": [
        "#Scrapping Data Twitter Menggunakan Snscrape\n",
        "by Muhammad Asyhar"
      ],
      "metadata": {
        "id": "IymwcOqzsrtt"
      }
    },
    {
      "cell_type": "markdown",
      "source": [
        "###Install & import library"
      ],
      "metadata": {
        "id": "VYsfFyWDs5pF"
      }
    },
    {
      "cell_type": "code",
      "source": [
        "!pip3 install snscrape\n",
        "import snscrape.modules.twitter as sntwitter\n",
        "import pandas as pd"
      ],
      "metadata": {
        "id": "KoTsttTF_Hn6"
      },
      "execution_count": null,
      "outputs": []
    },
    {
      "cell_type": "markdown",
      "source": [
        "###Scrapper Engine dan Parameter"
      ],
      "metadata": {
        "id": "hetzVMBJtmKe"
      }
    },
    {
      "cell_type": "code",
      "source": [
        "# Parameter\n",
        "keyword = 'Gempa'\n",
        "start_date = '2023-01-01'\n",
        "end_date = '2023-01-15'\n",
        "max_tweet = 10\n",
        "\n",
        "# Scrapper Engine\n",
        "scraper = sntwitter.TwitterSearchScraper(f'{keyword} since:{start_date} until:{end_date}').get_items()"
      ],
      "metadata": {
        "id": "jof6K3Qk8pFq"
      },
      "execution_count": 12,
      "outputs": []
    },
    {
      "cell_type": "markdown",
      "source": [
        "###Membuat list"
      ],
      "metadata": {
        "id": "xpIRHjAXuBcc"
      }
    },
    {
      "cell_type": "code",
      "source": [
        "tweet_list = []\n",
        "\n",
        "for i, tweet in enumerate(scraper):\n",
        "  if i==max_tweet:\n",
        "    break\n",
        "  tweet_list.append([tweet.date, tweet.id, tweet.user.username, tweet.content])\n",
        "\n",
        "tweet_list"
      ],
      "metadata": {
        "colab": {
          "base_uri": "https://localhost:8080/"
        },
        "id": "zFVNqgRLuEOb",
        "outputId": "a7107917-bc3f-49d2-e8a4-51c49347774f"
      },
      "execution_count": 13,
      "outputs": [
        {
          "output_type": "stream",
          "name": "stderr",
          "text": [
            "<ipython-input-13-453e71269a08>:6: FutureWarning: content is deprecated, use rawContent instead\n",
            "  tweet_list.append([tweet.date, tweet.id, tweet.user.username, tweet.content])\n"
          ]
        },
        {
          "output_type": "execute_result",
          "data": {
            "text/plain": [
              "[[datetime.datetime(2023, 1, 14, 23, 59, 48, tzinfo=datetime.timezone.utc),\n",
              "  1614411993792024577,\n",
              "  'irs8087',\n",
              "  'Ko berasa gempa'],\n",
              " [datetime.datetime(2023, 1, 14, 23, 56, 50, tzinfo=datetime.timezone.utc),\n",
              "  1614411249760239616,\n",
              "  'amaliacitranovi',\n",
              "  'Siaga Tsunami di Maluku Imbas Gempa 7,9 M, Apa yang Harus Dilakukan Saat Genting? Inilah Tips Siaga Bencana https://t.co/yA60L0TJ2K'],\n",
              " [datetime.datetime(2023, 1, 14, 23, 56, 40, tzinfo=datetime.timezone.utc),\n",
              "  1614411206273695745,\n",
              "  'syiqfa',\n",
              "  'Kaget yang Tangerang, karena seumur umur baru liat gempa yang pusatnya di sana. 😭'],\n",
              " [datetime.datetime(2023, 1, 14, 23, 56, 35, tzinfo=datetime.timezone.utc),\n",
              "  1614411184404594689,\n",
              "  'soloposdotcom',\n",
              "  'Gempa M 5,0 Guncang Bogor dan Tangerang dalam Waktu Hampir Bersamaan https://t.co/lyxwcpzpCf'],\n",
              " [datetime.datetime(2023, 1, 14, 23, 56, 32, tzinfo=datetime.timezone.utc),\n",
              "  1614411174472486913,\n",
              "  'infobmkgpapua',\n",
              "  'Info Gempa Mag: 3.8, 15-Jan-23 08:51:21 WIT, Lok: 2.44 LS-140.68 BT (16 km TimurLaut KOTA-JAYAPURA-PAPUA), Kdlmn: 4 Km , dirasakan III MMI di Kota Jayapura :: BMKG-PGR-V https://t.co/iOeInezOTZ'],\n",
              " [datetime.datetime(2023, 1, 14, 23, 56, 3, tzinfo=datetime.timezone.utc),\n",
              "  1614411052472733696,\n",
              "  'Fardyantoo',\n",
              "  'Ini jayapura kapan berhenti gempa :('],\n",
              " [datetime.datetime(2023, 1, 14, 23, 55, 18, tzinfo=datetime.timezone.utc),\n",
              "  1614410860650237953,\n",
              "  'SismoDetector',\n",
              "  '#gempa dilaporkan oleh pengguna aplikasi Earthquake Network di 5km dari #Jayapura, Indonesia. 28 laporan dalam radius 24km. Unduh aplikasi dari https://t.co/hNdHhYeXVG untuk menerima peringatan waktu nyata https://t.co/ZDylfeeUxO'],\n",
              " [datetime.datetime(2023, 1, 14, 23, 53, 23, tzinfo=datetime.timezone.utc),\n",
              "  1614410378632466433,\n",
              "  'SismoDetector',\n",
              "  '#gempa dilaporkan oleh pengguna aplikasi Earthquake Network di 5km dari #Jayapura, Indonesia. 12 laporan dalam radius 22km. Unduh aplikasi dari https://t.co/hNdHhYeXVG untuk menerima peringatan waktu nyata https://t.co/j5e31NIl47'],\n",
              " [datetime.datetime(2023, 1, 14, 23, 51, 55, tzinfo=datetime.timezone.utc),\n",
              "  1614410011660410880,\n",
              "  'llucalabii',\n",
              "  'nice gempa'],\n",
              " [datetime.datetime(2023, 1, 14, 23, 51, 30, tzinfo=datetime.timezone.utc),\n",
              "  1614409904646651906,\n",
              "  'SismoDetector',\n",
              "  '[23:51:28 UTC]  #gempa terdeteksi secara real time pada 4km dari #Jayapura, Indonesia. Unduh aplikasi Earthquake Network dari https://t.co/hNdHhYeXVG untuk menerima peringatan di ponsel cerdas Anda https://t.co/SmypBWETNh']]"
            ]
          },
          "metadata": {},
          "execution_count": 13
        }
      ]
    },
    {
      "cell_type": "markdown",
      "source": [
        "###Membuat Data Frame"
      ],
      "metadata": {
        "id": "Zgwl5V36uKlG"
      }
    },
    {
      "cell_type": "code",
      "source": [
        "df = pd.DataFrame(tweet_list, columns=['DateTime', 'TweetId', 'Username', 'Text'])\n",
        "df.head()"
      ],
      "metadata": {
        "colab": {
          "base_uri": "https://localhost:8080/",
          "height": 206
        },
        "id": "7HNuoTBJuLGV",
        "outputId": "71a55fb0-214b-4e9c-eb14-fe7b31cc22b0"
      },
      "execution_count": 14,
      "outputs": [
        {
          "output_type": "execute_result",
          "data": {
            "text/plain": [
              "                   DateTime              TweetId         Username  \\\n",
              "0 2023-01-14 23:59:48+00:00  1614411993792024577          irs8087   \n",
              "1 2023-01-14 23:56:50+00:00  1614411249760239616  amaliacitranovi   \n",
              "2 2023-01-14 23:56:40+00:00  1614411206273695745           syiqfa   \n",
              "3 2023-01-14 23:56:35+00:00  1614411184404594689    soloposdotcom   \n",
              "4 2023-01-14 23:56:32+00:00  1614411174472486913    infobmkgpapua   \n",
              "\n",
              "                                                Text  \n",
              "0                                    Ko berasa gempa  \n",
              "1  Siaga Tsunami di Maluku Imbas Gempa 7,9 M, Apa...  \n",
              "2  Kaget yang Tangerang, karena seumur umur baru ...  \n",
              "3  Gempa M 5,0 Guncang Bogor dan Tangerang dalam ...  \n",
              "4  Info Gempa Mag: 3.8, 15-Jan-23 08:51:21 WIT, L...  "
            ],
            "text/html": [
              "\n",
              "  <div id=\"df-b346602b-24d2-429a-a1d8-14b8519852ca\">\n",
              "    <div class=\"colab-df-container\">\n",
              "      <div>\n",
              "<style scoped>\n",
              "    .dataframe tbody tr th:only-of-type {\n",
              "        vertical-align: middle;\n",
              "    }\n",
              "\n",
              "    .dataframe tbody tr th {\n",
              "        vertical-align: top;\n",
              "    }\n",
              "\n",
              "    .dataframe thead th {\n",
              "        text-align: right;\n",
              "    }\n",
              "</style>\n",
              "<table border=\"1\" class=\"dataframe\">\n",
              "  <thead>\n",
              "    <tr style=\"text-align: right;\">\n",
              "      <th></th>\n",
              "      <th>DateTime</th>\n",
              "      <th>TweetId</th>\n",
              "      <th>Username</th>\n",
              "      <th>Text</th>\n",
              "    </tr>\n",
              "  </thead>\n",
              "  <tbody>\n",
              "    <tr>\n",
              "      <th>0</th>\n",
              "      <td>2023-01-14 23:59:48+00:00</td>\n",
              "      <td>1614411993792024577</td>\n",
              "      <td>irs8087</td>\n",
              "      <td>Ko berasa gempa</td>\n",
              "    </tr>\n",
              "    <tr>\n",
              "      <th>1</th>\n",
              "      <td>2023-01-14 23:56:50+00:00</td>\n",
              "      <td>1614411249760239616</td>\n",
              "      <td>amaliacitranovi</td>\n",
              "      <td>Siaga Tsunami di Maluku Imbas Gempa 7,9 M, Apa...</td>\n",
              "    </tr>\n",
              "    <tr>\n",
              "      <th>2</th>\n",
              "      <td>2023-01-14 23:56:40+00:00</td>\n",
              "      <td>1614411206273695745</td>\n",
              "      <td>syiqfa</td>\n",
              "      <td>Kaget yang Tangerang, karena seumur umur baru ...</td>\n",
              "    </tr>\n",
              "    <tr>\n",
              "      <th>3</th>\n",
              "      <td>2023-01-14 23:56:35+00:00</td>\n",
              "      <td>1614411184404594689</td>\n",
              "      <td>soloposdotcom</td>\n",
              "      <td>Gempa M 5,0 Guncang Bogor dan Tangerang dalam ...</td>\n",
              "    </tr>\n",
              "    <tr>\n",
              "      <th>4</th>\n",
              "      <td>2023-01-14 23:56:32+00:00</td>\n",
              "      <td>1614411174472486913</td>\n",
              "      <td>infobmkgpapua</td>\n",
              "      <td>Info Gempa Mag: 3.8, 15-Jan-23 08:51:21 WIT, L...</td>\n",
              "    </tr>\n",
              "  </tbody>\n",
              "</table>\n",
              "</div>\n",
              "      <button class=\"colab-df-convert\" onclick=\"convertToInteractive('df-b346602b-24d2-429a-a1d8-14b8519852ca')\"\n",
              "              title=\"Convert this dataframe to an interactive table.\"\n",
              "              style=\"display:none;\">\n",
              "        \n",
              "  <svg xmlns=\"http://www.w3.org/2000/svg\" height=\"24px\"viewBox=\"0 0 24 24\"\n",
              "       width=\"24px\">\n",
              "    <path d=\"M0 0h24v24H0V0z\" fill=\"none\"/>\n",
              "    <path d=\"M18.56 5.44l.94 2.06.94-2.06 2.06-.94-2.06-.94-.94-2.06-.94 2.06-2.06.94zm-11 1L8.5 8.5l.94-2.06 2.06-.94-2.06-.94L8.5 2.5l-.94 2.06-2.06.94zm10 10l.94 2.06.94-2.06 2.06-.94-2.06-.94-.94-2.06-.94 2.06-2.06.94z\"/><path d=\"M17.41 7.96l-1.37-1.37c-.4-.4-.92-.59-1.43-.59-.52 0-1.04.2-1.43.59L10.3 9.45l-7.72 7.72c-.78.78-.78 2.05 0 2.83L4 21.41c.39.39.9.59 1.41.59.51 0 1.02-.2 1.41-.59l7.78-7.78 2.81-2.81c.8-.78.8-2.07 0-2.86zM5.41 20L4 18.59l7.72-7.72 1.47 1.35L5.41 20z\"/>\n",
              "  </svg>\n",
              "      </button>\n",
              "      \n",
              "  <style>\n",
              "    .colab-df-container {\n",
              "      display:flex;\n",
              "      flex-wrap:wrap;\n",
              "      gap: 12px;\n",
              "    }\n",
              "\n",
              "    .colab-df-convert {\n",
              "      background-color: #E8F0FE;\n",
              "      border: none;\n",
              "      border-radius: 50%;\n",
              "      cursor: pointer;\n",
              "      display: none;\n",
              "      fill: #1967D2;\n",
              "      height: 32px;\n",
              "      padding: 0 0 0 0;\n",
              "      width: 32px;\n",
              "    }\n",
              "\n",
              "    .colab-df-convert:hover {\n",
              "      background-color: #E2EBFA;\n",
              "      box-shadow: 0px 1px 2px rgba(60, 64, 67, 0.3), 0px 1px 3px 1px rgba(60, 64, 67, 0.15);\n",
              "      fill: #174EA6;\n",
              "    }\n",
              "\n",
              "    [theme=dark] .colab-df-convert {\n",
              "      background-color: #3B4455;\n",
              "      fill: #D2E3FC;\n",
              "    }\n",
              "\n",
              "    [theme=dark] .colab-df-convert:hover {\n",
              "      background-color: #434B5C;\n",
              "      box-shadow: 0px 1px 3px 1px rgba(0, 0, 0, 0.15);\n",
              "      filter: drop-shadow(0px 1px 2px rgba(0, 0, 0, 0.3));\n",
              "      fill: #FFFFFF;\n",
              "    }\n",
              "  </style>\n",
              "\n",
              "      <script>\n",
              "        const buttonEl =\n",
              "          document.querySelector('#df-b346602b-24d2-429a-a1d8-14b8519852ca button.colab-df-convert');\n",
              "        buttonEl.style.display =\n",
              "          google.colab.kernel.accessAllowed ? 'block' : 'none';\n",
              "\n",
              "        async function convertToInteractive(key) {\n",
              "          const element = document.querySelector('#df-b346602b-24d2-429a-a1d8-14b8519852ca');\n",
              "          const dataTable =\n",
              "            await google.colab.kernel.invokeFunction('convertToInteractive',\n",
              "                                                     [key], {});\n",
              "          if (!dataTable) return;\n",
              "\n",
              "          const docLinkHtml = 'Like what you see? Visit the ' +\n",
              "            '<a target=\"_blank\" href=https://colab.research.google.com/notebooks/data_table.ipynb>data table notebook</a>'\n",
              "            + ' to learn more about interactive tables.';\n",
              "          element.innerHTML = '';\n",
              "          dataTable['output_type'] = 'display_data';\n",
              "          await google.colab.output.renderOutput(dataTable, element);\n",
              "          const docLink = document.createElement('div');\n",
              "          docLink.innerHTML = docLinkHtml;\n",
              "          element.appendChild(docLink);\n",
              "        }\n",
              "      </script>\n",
              "    </div>\n",
              "  </div>\n",
              "  "
            ]
          },
          "metadata": {},
          "execution_count": 14
        }
      ]
    },
    {
      "cell_type": "markdown",
      "source": [
        "##Terima kasih"
      ],
      "metadata": {
        "id": "CAfVb4_PuML7"
      }
    }
  ]
}